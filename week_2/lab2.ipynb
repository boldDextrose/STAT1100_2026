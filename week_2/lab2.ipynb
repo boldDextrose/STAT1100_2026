{
 "cells": [
  {
   "cell_type": "markdown",
   "id": "e7fe2116",
   "metadata": {},
   "source": [
    "# STAT1100 Data Wrangling and Visualisation: Week 2\n",
    "\n",
    "Last week, we looked at the basics of Python and learned to essentially use it as an advanced calculator.\n",
    "This week, we will cover the fundamentals in using Python as a programming language"
   ]
  },
  {
   "cell_type": "markdown",
   "id": "bf18ca34",
   "metadata": {},
   "source": [
    "# Storing Data: Variables\n",
    "\n",
    "The first thing we will cover is creating and using 'variables'. Variables are named containers for storing\n",
    "data/values, similar to statements in mathematics like $x = 5$. In fact creating a variable is Python looks\n",
    "exactly the same:"
   ]
  },
  {
   "cell_type": "code",
   "execution_count": null,
   "id": "fe9284b5",
   "metadata": {},
   "outputs": [],
   "source": [
    "x = 5"
   ]
  },
  {
   "cell_type": "markdown",
   "id": "6c8c9193",
   "metadata": {},
   "source": [
    "It is worth noting that the previous line is not entirely the same as the statement in mathematics. Where in\n",
    "mathematics $x = 5$ states a bidirectional equivalence ($x$ is $5$ and $5$ is $x$), in Python the statement only applies\n",
    "in the left to right reading direction. That is, `x` is set to the value of `5`, but `5` is not set to the value of `x`.\n",
    "So in short, creating a variable assigns the value on the right hand side to the name on the left hand side.\n",
    "\n",
    "## Types of Variables\n",
    "\n",
    "So far, we have used a variable to store a number. But what if we want to store a word? Well, that is just as simple,\n",
    "in fact, we can store many different types of data in a variable in exactly the same way."
   ]
  },
  {
   "cell_type": "code",
   "execution_count": null,
   "id": "fcebed80",
   "metadata": {},
   "outputs": [],
   "source": [
    "name = \"Cody\"\n",
    "pi = 3.14\n",
    "is_python = True\n",
    "hex_number = b'1f'"
   ]
  },
  {
   "cell_type": "markdown",
   "id": "c66d1cb7",
   "metadata": {},
   "source": [
    "You may have noticed that for each of these different types of variables, we do not have to explicitly tell Python\n",
    "we are creating a variable of that type (e.g. in C we would have to say `float pi = 3.14;`). This is because Python uses\n",
    "what is known as 'duck typing', which means that often the assigned type of a variable is transparent to\n",
    "the programmer. However, you may also have noticed that instead each of the values themselves have indicators for their typings. For example,\n",
    "the value `\"Cody\"` is a string as indicated by the quotations that surround it (you can use either single or double\n",
    "quotations for strings).\n",
    "\n",
    "The most notable types are the numerical `int` and `float` types, the boolean `bool` type (this is also numeric in a\n",
    "sense, just discretely as `True` (1) or `False` (0)), and the string `str` type. There are also a number of less common Python standard\n",
    "types, a complete list of them including some of their specific operators can be found at the\n",
    "[Python Documentation on Built-in Types](https://docs.python.org/3/library/stdtypes.html)."
   ]
  },
  {
   "cell_type": "markdown",
   "id": "65604511",
   "metadata": {},
   "source": [
    "### Exercises\n",
    "\n",
    "1. Create a variable called `my_name` and assign it the value of your name. Then print it out.\n",
    "2. Create two variables, `x` and `y`, and assign them the values `7` and `2`. Then print out the sum of `x` and `y`.\n",
    "3. Create a variable called `p` and assign it the value `True`. Print out the value of $p \\vee (x \\leq y)$,\n",
    "reusing `x` and `y` from the previous exercise. (Hint: $\\vee$ is the logical OR operator)"
   ]
  },
  {
   "cell_type": "code",
   "execution_count": null,
   "id": "9d8aa460",
   "metadata": {},
   "outputs": [],
   "source": []
  },
  {
   "cell_type": "markdown",
   "id": "8f912759",
   "metadata": {},
   "source": [
    "## Collections of Variables\n",
    "\n",
    "The next step from creating single value variables is collecting values together into single variables. This is a similar\n",
    "concept to vectors or matrices that you may have seen in mathematics. There are many ways to do this, ranging up to creating\n",
    "custom 'classes', but for now we will cover the three most fundamental and common ways, lists, tuples, and dictionaries.\n",
    "\n",
    "The most commonly used collection is the list. Lists can store many values of possibly different types, including other lists\n",
    "(and collections for that matter). The list is also its own type and is indicated by the square brackets `[]`, where inside the list\n",
    "individual values are separated by commas `,`. The following are examples of lists being set to variables:"
   ]
  },
  {
   "cell_type": "code",
   "execution_count": null,
   "id": "59c17166",
   "metadata": {},
   "outputs": [],
   "source": [
    "numbers = [1, 2, 3, 4, 5]\n",
    "names = [\"Cody\", \"John\", \"Jane\"]\n",
    "mixed_list = [1, \"Cody\", True, [1, 2, 3]]"
   ]
  },
  {
   "cell_type": "markdown",
   "id": "57d89176",
   "metadata": {},
   "source": [
    "A key feature of the list is that it is mutable, which means that the list can be changed after it is created. For example,\n",
    "you could change the second number in the `numbers` list with `numbers[1] = 10` and the list would be changed to\n",
    "`[1, 10, 3, 4, 5]`. Additionally, you could add an element to the list with `numbers.append(7)` resulting in `[1, 10, 3, 4, 5, 7]`.\n",
    "For more information on you what can done with lists see the [Python Documentation on Lists](https://docs.python.org/3/tutorial/introduction.html#lists).\n",
    "\n",
    "The next collection we will cover is the tuple, which are (optionally) indicated by circle brackets `()`. Tuples are similar to lists, except\n",
    "they are immutable. That is, once they have been instantiated, they cannot be changed. The use of tuples is often in quickly passing\n",
    "collections of data from one place to another. In the following we provide examples of tuples being set to variables, we also direct you to the\n",
    "[Python Documentation on Tuples](https://docs.python.org/3/tutorial/datastructures.html#tuples-and-sequences):"
   ]
  },
  {
   "cell_type": "code",
   "execution_count": null,
   "id": "d1eda420",
   "metadata": {},
   "outputs": [],
   "source": [
    "numbers2 = (1, 2, 3, 4, 5)\n",
    "names2 = (\"Cody\", \"John\", \"Jane\")\n",
    "mixed_tuple = (1, \"Cody\", True, [1, 2, 3])"
   ]
  },
  {
   "cell_type": "markdown",
   "id": "b2e6654d",
   "metadata": {},
   "source": [
    "Finally, there are dictionaries, indicated by curly brackets `{}`. Dictionaries are mutable like lists, but the key difference\n",
    "is that each element is indexed by a key (which may hold any type). Dictionaries are widely used within Python for more complex\n",
    "stucturing of stored data. For more information on dictionaries see the [Python Documentation on Dictionaries](https://docs.python.org/3/tutorial/datastructures.html#dictionaries). In the following example, we create a dictionary and print two of its elements:"
   ]
  },
  {
   "cell_type": "code",
   "execution_count": null,
   "id": "8e961b47",
   "metadata": {},
   "outputs": [],
   "source": [
    "# This is based on the classic Iris dataset\n",
    "# class is indexed by 1 just to show ints can also be an index\n",
    "iris_small = {1: \"Setosa\", \"Sepal Length\": 1.5, \"Sepal Width\": 0.5}\n",
    "print(\"Class:\", iris_small[1])\n",
    "print(iris_small[\"Sepal Length\"])"
   ]
  },
  {
   "cell_type": "markdown",
   "id": "682a6448",
   "metadata": {},
   "source": [
    "### Exercises\n",
    "\n",
    "1. Create a list containing 5 dog breeds and assign it to a variable called `dogs`.\n",
    "2. Print the slice of the middle three elements of the `dogs` list.\n",
    "3. Change the second element of the `dogs` list to any other value. (Note: lists count from 0, not 1)\n",
    "4. Convert the `dogs` list to a tuple and try exercises 2 and 3 again. (3 should not work)\n",
    "5. Create a dictionary, `courses`, that maps the codes of the courses your are taking to the names of the courses."
   ]
  },
  {
   "cell_type": "code",
   "execution_count": null,
   "id": "84fb1e02",
   "metadata": {},
   "outputs": [],
   "source": []
  },
  {
   "cell_type": "markdown",
   "id": "013cd476",
   "metadata": {},
   "source": [
    "# Control Flows\n",
    "\n",
    "The other important part of programming is being able to react to the values observed during the runtime of the program.\n",
    "We will briefly cover if statements, loops, and functions. If you further interested in the details of these, you can\n",
    "find the [Python Documentation on Control Flow](https://docs.python.org/3/tutorial/controlflow.html).\n",
    "\n",
    "## If Statements\n",
    "\n",
    "These are statements that run a block of code if a condition holds the value of `True`. For example, if we wanted to\n",
    "print `fizz` if a number, `x`, is divisible by 3, we could write:"
   ]
  },
  {
   "cell_type": "code",
   "execution_count": null,
   "id": "869fcbbf",
   "metadata": {},
   "outputs": [],
   "source": [
    "if x % 3 == 0:\n",
    "    print(\"fizz\")"
   ]
  },
  {
   "cell_type": "markdown",
   "id": "b096e3ab",
   "metadata": {},
   "source": [
    "Here we use the modulo operator `%` to check if `x` is divisible by 3. If it is, the block of code indicated by the indent\n",
    "after the colon is executed. You should try seeing what each of the individual parts of the condition is doing by changing\n",
    "it in this sheet.\n",
    "\n",
    "Another important element of if statements is running different blocks when the condition is not met. This is done with the\n",
    "`else` keyword, and to introduce another condition, the `elif` keyword. For example, if we wanted to print `fizz` if\n",
    "`x` is divisible by 3, and `buzz` if it is divisible by 5, and `x` itself otherwise, we could write:"
   ]
  },
  {
   "cell_type": "code",
   "execution_count": null,
   "id": "fa383602",
   "metadata": {},
   "outputs": [],
   "source": [
    "if x % 3 == 0:\n",
    "    print(\"fizz\")\n",
    "elif x % 5 == 0:\n",
    "    print(\"buzz\")\n",
    "else:\n",
    "    print(x)"
   ]
  },
  {
   "cell_type": "markdown",
   "id": "7a71c267",
   "metadata": {},
   "source": [
    "### Exercises\n",
    "\n",
    "1. The write a statement which prints \"Five\" if a variable `x` is equal to 5, and \"Not Five\" otherwise.\n",
    "2. Try running the statement with different values for `x` and see what happens.\n",
    "3. Add in an `elif` condition that prints \"Two\" if `x` is equal to 2"
   ]
  },
  {
   "cell_type": "code",
   "execution_count": null,
   "id": "ee947517",
   "metadata": {},
   "outputs": [],
   "source": []
  },
  {
   "cell_type": "markdown",
   "id": "b5c900cf",
   "metadata": {},
   "source": [
    "## Loops\n",
    "\n",
    "Loops in programming are a way of repeating a block of code a number of times. There are two ways of performing a loop in Python.\n",
    "The first is the `while` loop, which is similar to the `if` statement but it keeps repeating while the condition is true. For\n",
    "example, it we wanted print the numbers from 1 to 10, we could write:"
   ]
  },
  {
   "cell_type": "code",
   "execution_count": null,
   "id": "b916031e",
   "metadata": {},
   "outputs": [],
   "source": [
    "x = 1\n",
    "while x < 11:\n",
    "    print(x)\n",
    "    x += 1  # This is the same as x = x + 1"
   ]
  },
  {
   "cell_type": "markdown",
   "id": "2ae9222f",
   "metadata": {},
   "source": [
    "On the other hand, the `for` loop is a more powerful way of performing loops. It is used to iterate over a sequence of items, including\n",
    "lists, tuples, and dictionaries. For example, to print each of the elements of a list, we could write:"
   ]
  },
  {
   "cell_type": "code",
   "execution_count": null,
   "id": "3fb3ff89",
   "metadata": {},
   "outputs": [],
   "source": [
    "for x in [1, 2, 3, 4, 5]:\n",
    "    print(x)"
   ]
  },
  {
   "cell_type": "markdown",
   "id": "374a7b22",
   "metadata": {},
   "source": [
    "For loops are often combined with the [range](https://docs.python.org/3/library/functions.html#func-range) function to\n",
    "loop from 0 (or optionally a starting value) to a specified number of times. For example, to print the numbers from 0 to 10,"
   ]
  },
  {
   "cell_type": "code",
   "execution_count": null,
   "id": "40588527",
   "metadata": {},
   "outputs": [],
   "source": [
    "for x in range(11):\n",
    "    print(x)"
   ]
  },
  {
   "cell_type": "markdown",
   "id": "be3ea210",
   "metadata": {},
   "source": [
    "Additionally loops can used to construct collections. For example, we could construct a list of the first 10 even numbers:"
   ]
  },
  {
   "cell_type": "code",
   "execution_count": null,
   "id": "8d563522",
   "metadata": {},
   "outputs": [],
   "source": [
    "evens = [2 * x for x in range(1, 11)]"
   ]
  },
  {
   "cell_type": "markdown",
   "id": "c8ebd6c8",
   "metadata": {},
   "source": [
    "### Exercises\n",
    "\n",
    "1. Create a variable `z` and assign it the value of 10. Then create a loop that prints `z` while it is greater than 0. Make sure to subtract 1\n",
    "from `z` each time.\n",
    "2. Iterate over the `courses` dictionary from the previous section's exercise, printing out the keys and values. (Hint: use the `courses.items()` method)\n",
    "3. Construct a list of the first 100 odd numbers."
   ]
  },
  {
   "cell_type": "code",
   "execution_count": null,
   "id": "f7a9ca6a",
   "metadata": {},
   "outputs": [],
   "source": []
  },
  {
   "cell_type": "markdown",
   "id": "f66e7396",
   "metadata": {},
   "source": [
    "## Functions\n",
    "\n",
    "Functions are somewhat similar to mathematical functions like $f(x) = x^2$, in that they take arguments ($x$) and return a value\n",
    "($x^2$). Programming functions as in Python, are unique however, in that they also provide a named place to store and execute a\n",
    "block of code. For example, we could write a function that performs $f(x) = x^2$, but also prints the value of $x$ before returning\n",
    "$x^2$:"
   ]
  },
  {
   "cell_type": "code",
   "execution_count": null,
   "id": "1897b893",
   "metadata": {},
   "outputs": [],
   "source": [
    "def f(x):\n",
    "    print(x)\n",
    "    return x**2"
   ]
  },
  {
   "cell_type": "markdown",
   "id": "6ff4852d",
   "metadata": {},
   "source": [
    "Actually using this function involves 'calling' it with an some value in the place of `x`. For example, to call it with `x = 5`,\n",
    "we could write `f(5)`. Notice that this looks the same as printing values `print(y)` or generating a range of values `range(z)`,\n",
    "because they too are functions.\n",
    "\n",
    "Functions are useful for writing neater code, as they simplify it's reuse and provide a way sort your code into clear segments."
   ]
  },
  {
   "cell_type": "code",
   "execution_count": null,
   "id": "6a71c079",
   "metadata": {},
   "outputs": [],
   "source": [
    "f(5)"
   ]
  },
  {
   "cell_type": "markdown",
   "id": "0a7b9bf5",
   "metadata": {},
   "source": [
    "### Exercises\n",
    "\n",
    "1. Write the function $g(x) = x^4$, and call it with $x = 5$, $x = 2i + 3$ and $x = 3.289$.\n",
    "2. Write a function that takes two arguments, `name` and `age`, and returns both the name backwards and age squared simultaneously.\n",
    "(hint: you can return collections)\n",
    "3. Write a program that returns the mean and standard deviation of a list of numbers."
   ]
  },
  {
   "cell_type": "code",
   "execution_count": null,
   "id": "6a111486",
   "metadata": {},
   "outputs": [],
   "source": []
  }
 ],
 "metadata": {
  "kernelspec": {
   "display_name": "Python 3 (ipykernel)",
   "language": "python",
   "name": "python3"
  },
  "language_info": {
   "codemirror_mode": {
    "name": "ipython",
    "version": 3
   },
   "file_extension": ".py",
   "mimetype": "text/x-python",
   "name": "python",
   "nbconvert_exporter": "python",
   "pygments_lexer": "ipython3",
   "version": "3.10.2"
  }
 },
 "nbformat": 4,
 "nbformat_minor": 5
}
