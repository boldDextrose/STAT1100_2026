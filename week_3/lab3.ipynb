{
 "cells": [
  {
   "cell_type": "markdown",
   "metadata": {},
   "source": [
    "# STAT1100 Data Communication and Modelling: Week 3\n",
    "\n"
   ]
  },
  {
   "cell_type": "markdown",
   "metadata": {},
   "source": [
    "For this lab we will cover the last of the Python fundamentals for this course. Our focus\n",
    "will be on two important python libraries within data science, numpy and pandas."
   ]
  },
  {
   "cell_type": "markdown",
   "metadata": {},
   "source": [
    "# NumPy: Easy Linear Algebra Programming\n",
    "\n",
    "First, we will look at [NumPy](https://numpy.org/). NumPy provides us with an array data structure, fast mathematical operations\n",
    "over those arrays, and Linear Algebra, Fourier Transforms, Random Number Generation, etc. To start we will install numpy with the\n",
    "following command, which must be run from the command line. Note that lines in code blocks in Jupyter that start with the percent\n",
    "sign are run similar to being direct from the terminal:"
   ]
  },
  {
   "cell_type": "code",
   "execution_count": null,
   "metadata": {},
   "outputs": [],
   "source": [
    "# In the following, the -U flag is short for --upgrade which just makes sure to update if we already have the package installed\n",
    "%pip install -U numpy"
   ]
  },
  {
   "cell_type": "markdown",
   "metadata": {},
   "source": [
    "The basis of numpy, the array data structure, is similar to a list but it can only store data of a single type. While this does\n",
    "sound limiting, these arrays are substantially faster than lists for performing mathematical operations, especially when\n",
    "concerning vectors, matrices, and further ranks of tensors. Constructing our own arrays from numpy is very simple, as follows:"
   ]
  },
  {
   "cell_type": "code",
   "execution_count": null,
   "metadata": {},
   "outputs": [],
   "source": [
    "import numpy as np\n",
    "\n",
    "a = np.array(5)"
   ]
  },
  {
   "cell_type": "markdown",
   "metadata": {},
   "source": [
    "In the first line we rename the module `numpy` to `np` with the import as statement, this is common place with numpy simply to\n",
    "save typing. Next, we create a numpy array containing the scalar with value 5.\n",
    "\n",
    "For many basic mathematical operations, arrays can be treated the same as any other number in python. For example:"
   ]
  },
  {
   "cell_type": "code",
   "execution_count": null,
   "metadata": {},
   "outputs": [],
   "source": [
    "# We can use normal python numbers\n",
    "print(a + 5)\n",
    "print(a - 4)\n",
    "print(a * 2)\n",
    "print(a / 3)\n",
    "print(a ** 6)\n",
    "\n",
    "# Or we can use numpy arrays\n",
    "b = np.array(2)\n",
    "print(a + b)\n",
    "print(a * b)"
   ]
  },
  {
   "cell_type": "markdown",
   "metadata": {},
   "source": [
    "Numpy arrays also have their own unique functions, which become more important when we look at numbers of higher rank.\n",
    "So to look at those we will first construct a vector, $c = [1, 2, 3]$, then call some of the most common functions on it:"
   ]
  },
  {
   "cell_type": "code",
   "execution_count": null,
   "metadata": {},
   "outputs": [],
   "source": [
    "c = np.array([1, 2, 3])  # We use a list to specify the elements and shape of the array\n",
    "\n",
    "print(c.ndim)  # Gets the number of axes, in this case 1 but for matrices it is 2 and so on\n",
    "print(c.shape) # Gets a tuple saying the scale of elements per axis\n",
    "print(c.size)  # Gets the total number of elements in the array\n",
    "print(c.dtype) # Gives the typing of the elements in the array"
   ]
  },
  {
   "cell_type": "markdown",
   "metadata": {},
   "source": [
    "Numpy also includes more specific mathematical functions, for example:"
   ]
  },
  {
   "cell_type": "code",
   "execution_count": null,
   "metadata": {},
   "outputs": [],
   "source": [
    "print(np.sqrt(c))  # Computes the square root of each element in the array\n",
    "print(np.sin(c))   # Also performed elementwise\n",
    "print(np.mean(c))  # Finds the mean of the entire array\n",
    "print(np.std(c))\n",
    "\n",
    "# There are also operations between multiple arrays\n",
    "d = np.array([4, 5, 6])\n",
    "print(c * d)        # This will be elementwise multiplication\n",
    "print(c.dot(d))     # But this will be the dot product of the vectors\n",
    "print(np.dot(c, d)) # This is the same as the previous line\n",
    "print(np.linalg.norm(c - d, ord=2)) # The Euclidean distance between the vectors"
   ]
  },
  {
   "cell_type": "markdown",
   "metadata": {},
   "source": [
    "There are many more functions included in numpy, if you are interested you can look at the\n",
    "[documentation](https://numpy.org/doc/stable/reference/index.html#reference).\n",
    "\n",
    "The final important feature of arrays we will cover is indexing. This is were we will take subarrays\n",
    "by specifying the indices of the elements we want to take. For numpy arrays, the indices are not only limited\n",
    "to just singular numbers or slices, but you can also use lists/arrays of indices, or even booleans. For example:"
   ]
  },
  {
   "cell_type": "code",
   "execution_count": null,
   "metadata": {},
   "outputs": [],
   "source": [
    "print(d[0])  # The first element, counting starts at 0 in python\n",
    "print(d[1:3]) # Take the slice of second and third elements\n",
    "print(d[[0, 2]]) # Take the first and last elements using a list\n",
    "print(d[d > 4]) # Take all elements greater than 4\n",
    "print(d[np.array([False, True, True])]) # Take all elements where the boolean is true"
   ]
  },
  {
   "cell_type": "markdown",
   "metadata": {},
   "source": [
    "For arrays with more than one axis, the indexing is done through a tuple with a number of elements that is less\n",
    "than or equal to the number of axes. For example:"
   ]
  },
  {
   "cell_type": "code",
   "execution_count": null,
   "metadata": {},
   "outputs": [],
   "source": [
    "m = np.array([[1, 2, 3], [4, 5, 6], [7, 8, 9]]) # A 3x3 matrix\n",
    "\n",
    "print(m[0, 0]) # The first element of the first row\n",
    "print(m[0]) # The first row\n",
    "print(m[0, :]) # Same as above\n",
    "print(m[:, 0]) # The first column\n",
    "print(m[[1, 2], [0, 2]]) # The first and third elements of the second and third rows\n",
    "print(m[m > 3]) # All elements greater than 3"
   ]
  },
  {
   "cell_type": "markdown",
   "metadata": {},
   "source": [
    "### Exercises\n",
    "\n",
    "1. Create an array called `v` with the values $[1, 2, 3, 4, 5, 6, 7, 8, 9, 10]$.\n",
    "2. Reshape `v` into a 2x5 matrix.\n",
    "3. n/a.\n",
    "4. Generate a random array, `r`, of integers in the range $[0, 10)$ with shape $(3, 4)$.\n",
    "5. Sort the rows of `r` in ascending order.\n",
    "6. Create the identity matrix $I$ with shape $(3, 4)$.\n",
    "7. Create two 4x2x3 tensors of ones and zeros, respectively."
   ]
  },
  {
   "cell_type": "code",
   "execution_count": null,
   "metadata": {},
   "outputs": [],
   "source": []
  },
  {
   "cell_type": "markdown",
   "metadata": {},
   "source": [
    "# Pandas: Collecting and Structuring Data\n",
    "\n",
    "[Pandas](https://pandas.pydata.org/) is a library that for handling structured data in Python. Its key feature is the\n",
    "DataFrame data structure, which is similar to R's dataframes, a table in an SQL database,\n",
    "or an excel spreadsheet. We will start by installing pandas:"
   ]
  },
  {
   "cell_type": "code",
   "execution_count": null,
   "metadata": {},
   "outputs": [],
   "source": [
    "%pip install -U pandas"
   ]
  },
  {
   "cell_type": "markdown",
   "metadata": {},
   "source": [
    "## Series\n",
    "\n",
    "First we will look at the building block of the dataframe, the Series. A Series is a labelled one-dimensional array of data,\n",
    "it represents a single column of a dataframe. For example:"
   ]
  },
  {
   "cell_type": "code",
   "execution_count": null,
   "metadata": {},
   "outputs": [],
   "source": [
    "import pandas as pd  # It is common to rename pandas to pd, saves typing\n",
    "\n",
    "# We will use a dictionary for the values of the Series.\n",
    "# But there many other valid types to pass in, such as numpy arrays.\n",
    "s = pd.Series({'a': 1, 'b': 2, 'c': 3})"
   ]
  },
  {
   "cell_type": "markdown",
   "metadata": {},
   "source": [
    "The series is mostly encountered when taking parts of a dataframe. When dealing with them independently, they act\n",
    "very similar to numpy arrays, except with labelled indices. For example:"
   ]
  },
  {
   "cell_type": "code",
   "execution_count": null,
   "metadata": {},
   "outputs": [],
   "source": [
    "print(s + 2)\n",
    "print(s / 4)\n",
    "\n",
    "# When operating on two Series, the elementwise operations are aligned by label\n",
    "print(s + pd.Series({'b': 4, 'a': 1, 'c': 9}))"
   ]
  },
  {
   "cell_type": "markdown",
   "metadata": {},
   "source": [
    "Like with numpy arrays, the series also includes numerous functions for more specific operations. For example:"
   ]
  },
  {
   "cell_type": "code",
   "execution_count": null,
   "metadata": {},
   "outputs": [],
   "source": [
    "print(s.mean())\n",
    "print(s.max())\n",
    "print(s.prod())"
   ]
  },
  {
   "cell_type": "markdown",
   "metadata": {},
   "source": [
    "## DataFrames\n",
    "\n",
    "The DataFrame extends the Series into two dimensions, being a matrix with labelled rows and columns. It shares\n",
    "functionality with the Series, except those functions are called across each column independently and return\n",
    "a series of the results. In the following, we demonstrate the construction of a dataframe and the calling of\n",
    "some of its functions:"
   ]
  },
  {
   "cell_type": "code",
   "execution_count": null,
   "metadata": {},
   "outputs": [],
   "source": [
    "# If labels for the rows are not specified, they are numbered starting from 0\n",
    "df = pd.DataFrame({'a': [1, 2, 3], 'b': [4, 5, 6], 'c': [7, 8, 9]})\n",
    "\n",
    "print(df + 2)  # Any normal arithmetic works elementwise\n",
    "print(df.mean())\n",
    "print(df.max())\n",
    "print(df.describe())  # Similar to R's summary()\n",
    "print(df * pd.DataFrame({'c': [1, 2, 3], 'a': [9, 12, 7], 'b': [6, 5, 4]}))"
   ]
  },
  {
   "cell_type": "markdown",
   "metadata": {},
   "source": [
    "A key difference between the numpy array and both the dataframe and series, is in accessing specific elements.\n",
    "For accessing single columns or elements, there are two ways. The most intuitive way being the \"bracket method\"\n",
    "which is the same as with dictionaries, except the indices are also permissive of lists and arrays."
   ]
  },
  {
   "cell_type": "code",
   "execution_count": null,
   "metadata": {},
   "outputs": [],
   "source": [
    "print(df['a'])  # Access a column by name\n",
    "print(df[['a', 'c']]) # Access multiple columns by name\n",
    "print(df['b'][1]) # Access a single element"
   ]
  },
  {
   "cell_type": "markdown",
   "metadata": {},
   "source": [
    "There is also the dot method for getting columns by name, it is similar accessing items from the modules.\n",
    "It also happens to replicate R's `$` operator."
   ]
  },
  {
   "cell_type": "code",
   "execution_count": null,
   "metadata": {},
   "outputs": [],
   "source": [
    "print(df.a) # Same as the first line of the previous block"
   ]
  },
  {
   "cell_type": "markdown",
   "metadata": {},
   "source": [
    "You may notice that `df[['a', 'c']]` returns another dataframe, meaning you can not access the rows in the same\n",
    "way as we got an element. As in, the following is invalid:"
   ]
  },
  {
   "cell_type": "code",
   "execution_count": null,
   "metadata": {},
   "outputs": [],
   "source": [
    "print(df[['a', 'c']][1])"
   ]
  },
  {
   "cell_type": "markdown",
   "metadata": {},
   "source": [
    "This is not a complete loss though, as pandas provides a method for accessing rows by name or index. These are\n",
    "the `loc` and `iloc` methods, which use column names and column indices respectively. For the following demonstration,\n",
    "we will first give `df` row names, then use the `loc`/`iloc` methods:"
   ]
  },
  {
   "cell_type": "code",
   "execution_count": null,
   "metadata": {},
   "outputs": [],
   "source": [
    "df.index = ['d', 'e', 'f']\n",
    "\n",
    "print(df.loc['d'])\n",
    "print(df.loc[['f', 'e']])\n",
    "print(df[['a', 'c']].loc['e'])  # Working version of print(df[['a', 'c']][1]\n",
    "\n",
    "# iloc versions\n",
    "print(df.iloc[0])\n",
    "print(df.iloc[[2, 1]])\n",
    "print(df[['a', 'c']].iloc[1])"
   ]
  },
  {
   "cell_type": "markdown",
   "metadata": {},
   "source": [
    "There are a few other significant summary methods whose importance are better seen in larger data sets. The\n",
    "`head` and `tail` methods, which show the first and last $n$ rows of the dataframe, respectively, and in\n",
    "addition to the previously mentioned `describe` method. These methods give a general \"at-a-glance\" view of\n",
    "of the stored data."
   ]
  },
  {
   "cell_type": "code",
   "execution_count": null,
   "metadata": {},
   "outputs": [],
   "source": [
    "# Construct the big dataframe\n",
    "rng = np.random.default_rng()\n",
    "big_df = pd.DataFrame(rng.integers(0, 10, size=(100, 5)), columns=['a', 'b', 'c', 'd', 'e'])\n",
    "\n",
    "# Look at the summaries\n",
    "print(big_df.head())\n",
    "print(big_df.tail())\n",
    "print(big_df.describe())\n",
    "# The default number of rows is 5, but can be changed through the parameters\n",
    "print(big_df.head(2))\n",
    "print(big_df.tail(20))"
   ]
  },
  {
   "cell_type": "markdown",
   "metadata": {},
   "source": [
    "### Exercises\n",
    "\n",
    "For these exercises, we will also use the [scikit-learn](https://scikit-learn.org/) and\n",
    "[matplotlib](https://matplotlib.org/) libraries. We will cover these libraries in more detail in future tutorials,\n",
    "but for now, we will do some basic data analysis with them. To install these libaries,\n",
    "run the following:"
   ]
  },
  {
   "cell_type": "code",
   "execution_count": null,
   "metadata": {},
   "outputs": [],
   "source": [
    "%pip install -U scikit-learn\n",
    "%pip install -U matplotlib"
   ]
  },
  {
   "cell_type": "markdown",
   "metadata": {},
   "source": [
    "From scikit-learn, we will take the iris dataset for our analysis. The following code will\n",
    "load the dataset into a pandas dataframe:"
   ]
  },
  {
   "cell_type": "code",
   "execution_count": null,
   "metadata": {},
   "outputs": [],
   "source": [
    "import matplotlib.pyplot as plt  # For plots later on\n",
    "%matplotlib inline\n",
    "from sklearn.datasets import load_iris\n",
    "\n",
    "iris = load_iris(as_frame=True)['frame']"
   ]
  },
  {
   "cell_type": "markdown",
   "metadata": {},
   "source": [
    "1. Print the column names of `iris`.\n",
    "2. Print the first twelve rows of `iris`.\n",
    "3. Get a summary of the data in `iris`.\n",
    "4. Print the first, fifth, and forty-second rows of the `sepal width (cm)` and `petal length (cm)`\n",
    "columns in `iris`.\n",
    "5. Find the product of the `petal width (cm)` and `petal length (cm)` columns in `iris`.\n",
    "6. Make scatter plot of the `petal length (cm)` against the `petal width (cm)` columns in `iris`.\n",
    "Try to color the points according to the `target` column.  (Hint: dataframes have a collection of \n",
    "[plot methods](https://pandas.pydata.org/docs/reference/api/pandas.DataFrame.plot.html). After plotting, you can\n",
    "use the `plt.show()` method to display it.)"
   ]
  },
  {
   "cell_type": "code",
   "execution_count": null,
   "metadata": {},
   "outputs": [],
   "source": []
  },
  {
   "cell_type": "markdown",
   "metadata": {},
   "source": [
    "\n",
    "# Supplementary Material: What is a library?\n",
    "\n",
    "From here, we will cover some optional material that is not required to understand this course,\n",
    "but will improve your understanding of python programming. To complete this, you cannot use a\n",
    "jupyter notebook, you must use a text-editor/IDE.\n",
    "\n",
    "By now, you have probably heard of the terms \"library\", \"module\", and \"package\" used almost\n",
    "interchangeably. They all have subtle differences that will be clear in a moment, but at the same\n",
    "time they all share a purpose, collecting code for easier reuse and readability.\n",
    "\n",
    "## Set-up\n",
    "\n",
    "For this Section we will need to first create a folder called \"lab3\", we will then add files and\n",
    "folders to this folder. You will need to use a text editor to create any Python files, ensure that\n",
    "they get saved with the extension \".py\" noting that some text editors might add \".txt\".\n",
    "\n",
    "The choice of text editor is up to you. Notably, most lab computers would have notepad++ by default.\n",
    "\n",
    "## Creating a Module\n",
    "\n",
    "A module is a Python file that is independent of the file which your are running your\n",
    "main code. That module can then be \"imported\" into the main code to make it's functions,\n",
    "variables, etc. available. We will see what this means with the following example, where we will construct\n",
    "a module called \"stats\" which will perform a mean on a collection of numbers stored in our\n",
    "main file.\n",
    "\n",
    "First, we will create the module by creating a file called \"stats.py\" in the lab3 folder.\n",
    "In this file we will write the following code:\n",
    "\n",
    "```python\n",
    "\"\"\"\n",
    "An assortment of basic statistics functions\n",
    "\"\"\"\n",
    "\n",
    "def mean(numbers):\n",
    "    return sum(numbers) / len(numbers)\n",
    "```\n",
    "\n",
    "The first three lines of that code are an optional \"docstring\" which is a special type of comment\n",
    "that provides documentation for what it is attached to. In this case, the docstring is attached to\n",
    "the module to provide a description of its purpose, you can also put them on functions,\n",
    "classes, variables, etc. Including docstrings ensures that when you call the `help` function\n",
    "on the module, function, etc. you will see that documentation.\n",
    "\n",
    "Next, we will create our main file, where we will import and use the module. The main file\n",
    "will be called \"main.py\" and will also be in the lab3 folder, it will contain the following\n",
    "code:\n",
    "\n",
    "```python\n",
    "import stats\n",
    "\n",
    "if __name__ == \"__main__\":\n",
    "    numbers = [1, 2, 3, 4, 5]\n",
    "    print(stats.mean(numbers))\n",
    "```\n",
    "\n",
    "The first line of the code imports our module `stats` into the \"namespace\" called `stats`. A namespace\n",
    "is similar to a variable, but it collects the variables, functions, and classes inside modules, each of\n",
    "which can be accessed with `namespace.variable_function_etc`. The next notable line is the `if __name__ == \"__main__\"`\n",
    "line which is not required, but is a good practice to include. What it does is ensure that the code contained\n",
    "in the if block is only executed if this is the main file that is executed. That means that if you import main,\n",
    "that code will not be executed. Finally, we call the `mean` function from the `stats` namespace on our list of numbers\n",
    "and print the result.\n",
    "\n",
    "To execute this file, you can use the command `python main.py` from the command line.\n",
    "\n",
    "### Exercises\n",
    "\n",
    "1. Add a function called `std` to the `stats` which computes the standard deviation of a list of numbers.\n",
    "Call it on the numbers list in the main file.\n",
    "2. Print the results of calling `dir` on the `stats` module.\n",
    "3. Add docstrings to both of the functions in the `stats` module. Then, in the main file, call the help\n",
    "function on the module and each of those functions. (press q to exit the help function)\n",
    "4. Create a module called `functions` and add in two functions, $f(x) = x^2 + 3$ and $f(x) = x^3 + 5$.\n",
    "Then, in the main file, import the `functions` module and call the two functions on $4$. Print the results.\n",
    "\n",
    "## Collecting Modules into a Library\n",
    "\n",
    "A library is collection of modules, they create an additional namespace for the modules better sorting them.\n",
    "Now that we have two modules, we can create a library that we will call `lib`. To do this, we will create\n",
    "a folder called \"lib\" and move \"stats.py\" and \"functions.py\" into this folder.\n",
    "\n",
    "Now to import the modules into our main file, we will need to replace `import stats` with `from lib import stats`\n",
    "and `import functions` with `from lib import functions`. This is due to our added namespace.\n",
    "\n",
    "We can also make `lib` directly contain the modules. We just need to add a file called `__init__.py` to the the `lib`\n",
    "folder, it will contain:\n",
    "\n",
    "```python\n",
    "from . import stats\n",
    "from . import functions\n",
    "```\n",
    "\n",
    "Where the `from .` means take the module from this folder.\n",
    "\n",
    "With this file, we can now simplify the imports of our main file to:\n",
    "\n",
    "```python\n",
    "import lib\n",
    "\n",
    "if __name__ == \"__main__\":\n",
    "    numbers = [1, 2, 3, 4, 5]\n",
    "    print(lib.stats.mean(numbers))\n",
    "    # etc.\n",
    "```\n",
    "\n",
    "Notice that this form of import gives us a two level namespace, `lib.module.variable_function_etc`. The reason these namespaces\n",
    "are important outside of sorting code, is that they allows us to not worry about overwritng variables, functions, etc. from other\n",
    "modules. This also happens to determine the level which we should import from. For example, since there is nothing else in\n",
    "`main.py` called `stats`, we can import `stats` from `lib` with `from lib import stats` and not worry about overwriting it\n",
    "\n",
    "### Exercise\n",
    "\n",
    "Create a another library called `strings`. Inside `strings` create two modules, `words` and `letters`. In `words`\n",
    "create a functions called `count` which takes a string and returns the number of words in the string, also create\n",
    "a function called `reverse` which reverses the string. In `letters`, create a function called `count` which finds\n",
    "the number of letters in a string. In the main file, call each of these functions on a string and print the results.\n",
    "\n",
    "## Then, What is a Package?\n",
    "\n",
    "Finally, this takes us to packages. A package is simply a library that is built so it can be imported into Python from\n",
    "any folder, they appear as an extending feature for Python. We commonly use packages built by other people to make our own\n",
    "code simpler, and to prevent us from \"reinventing the wheel\". The `pip` tool that is a part of the Python distribution is\n",
    "used to manage and install packages, of which usually come from [PyPI](https://pypi.org/)."
   ]
  }
 ],
 "metadata": {
  "interpreter": {
   "hash": "e7370f93d1d0cde622a1f8e1c04877d8463912d04d973331ad4851f04de6915a"
  },
  "kernelspec": {
   "display_name": "Python 3 (ipykernel)",
   "language": "python",
   "name": "python3"
  },
  "language_info": {
   "codemirror_mode": {
    "name": "ipython",
    "version": 3
   },
   "file_extension": ".py",
   "mimetype": "text/x-python",
   "name": "python",
   "nbconvert_exporter": "python",
   "pygments_lexer": "ipython3",
   "version": "3.10.2"
  }
 },
 "nbformat": 4,
 "nbformat_minor": 2
}
