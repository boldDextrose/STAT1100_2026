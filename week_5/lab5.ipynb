{
 "cells": [
  {
   "cell_type": "markdown",
   "metadata": {},
   "source": [
    "# STAT1100 Data Communication and Modelling: Week 5\n",
    "\n",
    "First, let's look at the basics of making plots in python.\n",
    "\n",
    "## Plotting in Python\n",
    "\n",
    "In this section we will go some more of the basic of plotting with matplotlib. We will look at making a line plot,\n",
    "scatter plot, and bot-and-whisker plot, but there are also may more options\n",
    "[available](https://matplotlib.org/stable/api/_as_gen/matplotlib.pyplot.html).\n",
    "\n",
    "The standard process with matplotlib, no matter which plot you are making, is to first add all of you information to the\n",
    "plot then either show of save it. Showing or running `plt.clf()` will clear the plot of any previous information, so if you run\n",
    "two shows in a row, the second will be blank. This means you have set all information, such as the graph, axis labels, title,\n",
    "etc., on the plot before you can see it.\n",
    "\n",
    "First we will look at making a line plot, where we will use the `plot` method to make it. We will use numpy to make our\n",
    "`X` and `Y` values, in the following we use the `numpy.arange(start, end, step)` function which makes a range of numbers\n",
    "from the `start` to the `end - step` at a `step` interval, so we go from $-\\pi$ to $\\pi$ with 0.01 intervals in\n",
    "between. We will also use the `numpy.sin` function to make the `Y` values."
   ]
  },
  {
   "cell_type": "code",
   "execution_count": null,
   "metadata": {},
   "outputs": [],
   "source": [
    "import numpy as np\n",
    "import matplotlib.pyplot as plt\n",
    "%matplotlib inline\n",
    "\n",
    "X = np.arange(-np.pi, np.pi + 0.01, 0.01)\n",
    "Y = np.sin(X)"
   ]
  },
  {
   "cell_type": "markdown",
   "metadata": {},
   "source": [
    "Now plotting is pretty simple process, we just need to call the `plot` method with the `X` and `Y` values. Then show or save\n",
    "it."
   ]
  },
  {
   "cell_type": "code",
   "execution_count": null,
   "metadata": {},
   "outputs": [],
   "source": [
    "plt.plot(X, Y)\n",
    "plt.show()  # This directly opens a window showing the plot\n",
    "\n",
    "plt.plot(X, Y)\n",
    "plt.savefig('sin.png')  # This saves the plot to a file called 'sin.png'"
   ]
  },
  {
   "cell_type": "markdown",
   "metadata": {},
   "source": [
    "If we want to add labels and a title to our plot, we can do so by using the `title` and `xlabel` and `ylabel` methods.\n",
    "As expected we will use a string to specify the text for each these respectively through a function argument,\n",
    "it is worth noting that these use LaTeX formatting, so you can use math symbols."
   ]
  },
  {
   "cell_type": "code",
   "execution_count": null,
   "metadata": {},
   "outputs": [],
   "source": [
    "# We will plot a hyperbola this time\n",
    "X = np.arange(0.0001, 0.01, 0.0001)\n",
    "Y = 1 / X\n",
    "\n",
    "plt.plot(X, Y)\n",
    "# We will use the LaTeX formatting for the title, r is needed before the string\n",
    "# to stop the \\ from doing something unexpected\n",
    "plt.title(r'Hyperbola $y = \\frac{1}{x}$')\n",
    "plt.xlabel('x')\n",
    "plt.ylabel('y')\n",
    "plt.show()"
   ]
  },
  {
   "cell_type": "markdown",
   "metadata": {},
   "source": [
    "The scatter plot and box-and-whisker plot have mostly the same process to make, the only difference is that instead of\n",
    "using `plot` we use `scatter` and `boxplot` respectively."
   ]
  },
  {
   "cell_type": "code",
   "execution_count": null,
   "metadata": {},
   "outputs": [],
   "source": [
    "# This time we will plot random numbers\n",
    "rng = np.random.default_rng()\n",
    "# The scatter plot will need X, Y co-ordinates\n",
    "X, Y = rng.normal(0, 1, size=(2, 1000))\n",
    "plt.scatter(X, Y)\n",
    "plt.show()\n",
    "\n",
    "# The box-and-whisker plot will just need a list of values\n",
    "values = rng.normal(0, 1, size=1000)\n",
    "plt.boxplot(values)\n",
    "plt.show()"
   ]
  },
  {
   "cell_type": "markdown",
   "metadata": {},
   "source": [
    "### Exercises\n",
    "\n",
    "1. Make line plot of $e^x$.\n",
    "2. Make a single plot with lines for both $\\sin(x)$ and $\\cos(x)$.\n",
    "3. Make a scatter plot of uniform random numbers.\n",
    "4. Make a box-and-whisker plot of poisson random numbers."
   ]
  },
  {
   "cell_type": "code",
   "execution_count": null,
   "metadata": {},
   "outputs": [],
   "source": []
  },
  {
   "cell_type": "markdown",
   "metadata": {
    "tags": []
   },
   "source": [
    "## Geospatial plotting\n",
    "\n",
    "We will now do some geoplotting using the geopandas library. This library is built on top of the pandas library,\n",
    "and adds a geometry column which stores shape data showing the locations where the row information applies. We will also\n",
    "use the libpysal library to load the files we will analyse. The files are of the format shapefile, which is unique file\n",
    "format used within GIS software, it is a binary file that contains a table of vectors representing the locations of the\n",
    "points, lines, and shapes composing the map.\n",
    "\n",
    "First we will install the required libraries:"
   ]
  },
  {
   "cell_type": "code",
   "execution_count": null,
   "metadata": {
    "tags": []
   },
   "outputs": [],
   "source": [
    "%pip install -U geopandas libpysal"
   ]
  },
  {
   "cell_type": "markdown",
   "metadata": {
    "tags": []
   },
   "source": [
    "Now we will create two maps, one that shows the locations of Australian capital cities, then ones that highlight crime\n",
    "rates in two American cities.\n",
    "\n",
    "### Australian Capital Cities\n",
    "\n",
    "Starting with the capitals, the following code plots the location of Sydney on the map. Your task is to add code to plot\n",
    "the other seven capital cities:"
   ]
  },
  {
   "cell_type": "code",
   "execution_count": null,
   "metadata": {
    "tags": []
   },
   "outputs": [],
   "source": [
    "import pandas as pd\n",
    "import geopandas\n",
    "import matplotlib.pyplot as plt\n",
    "\n",
    "# First we create the data state where and what we are interested in\n",
    "df = pd.DataFrame(\n",
    "    {'City': ['Sydney'], 'Country': ['Australia'], 'Latitude': [-33.8688], 'Longitude': [151.2093]}\n",
    ")\n",
    "\n",
    "# Next we convert the data to a into the geopandas version of the dataframe\n",
    "gdf = geopandas.GeoDataFrame(df, geometry=geopandas.points_from_xy(df.Longitude, df.Latitude))\n",
    "\n",
    "# Then we get map data of the world from geopandas\n",
    "url = \"https://naciscdn.org/naturalearth/110m/cultural/ne_110m_admin_0_countries.zip\"\n",
    "world = geopandas.read_file(url)\n",
    "\n",
    "# We first plot just the map shape of Australia\n",
    "ax = world[world.SOVEREIGNT == 'Australia'].plot(color='white', edgecolor='black')\n",
    "\n",
    "# We next place the points from our data on top of the plotted map of Australia\n",
    "gdf.plot(ax=ax, color='red')\n",
    "\n",
    "# Finally, we show the plot/map\n",
    "plt.show()"
   ]
  },
  {
   "cell_type": "markdown",
   "metadata": {
    "tags": []
   },
   "source": [
    "### Crime Rates in Two American Cities\n",
    "\n",
    "For the crime rates, we will provide an example showing how to do so with the `columbus` (Columbus, Ohio) data from\n",
    "libpysal, your task will be to plot the car thefts with the San Francisco Crime data (get the path to `SFCrime_blocks.shp`)."
   ]
  },
  {
   "cell_type": "code",
   "execution_count": null,
   "metadata": {
    "tags": []
   },
   "outputs": [],
   "source": [
    "import geopandas as gpd\n",
    "import matplotlib.pyplot as plt\n",
    "import libpysal as ps\n",
    "\n",
    "# State where the file is\n",
    "pth = ps.examples.get_path(\"columbus.shp\")  \n",
    "# Read the file\n",
    "columbus = gpd.read_file(pth)  \n",
    "# Plot the crime rate\n",
    "columbus.plot(column='CRIME', cmap='OrRd', edgecolor='black', legend=True)  \n",
    "plt.show()"
   ]
  },
  {
   "cell_type": "markdown",
   "metadata": {
    "tags": []
   },
   "source": [
    "In the above example, we use the column argument to make the row's geometry be highlighted according to\n",
    "the value of the `CRIME` column. The cmap argument states the [colour map](https://matplotlib.org/stable/gallery/color/colormap_reference.html)\n",
    "to use for the highlighting, `OrRd` is a sequence from white to red. The edgecolor argument is used to set the colour\n",
    "of the outline of the geometry. Finally, the legend argument is used to show the legend.\n",
    "\n",
    "Task note: Before you can get the path to `SFCrime_blocks.shp`, you must load the example with"
   ]
  },
  {
   "cell_type": "code",
   "execution_count": null,
   "metadata": {
    "tags": []
   },
   "outputs": [],
   "source": [
    "ps.examples.load_example('SanFran Crime')"
   ]
  },
  {
   "cell_type": "code",
   "execution_count": null,
   "metadata": {},
   "outputs": [],
   "source": []
  }
 ],
 "metadata": {
  "interpreter": {
   "hash": "e7370f93d1d0cde622a1f8e1c04877d8463912d04d973331ad4851f04de6915a"
  },
  "kernelspec": {
   "display_name": "Python 3 (ipykernel)",
   "language": "python",
   "name": "python3"
  },
  "language_info": {
   "codemirror_mode": {
    "name": "ipython",
    "version": 3
   },
   "file_extension": ".py",
   "mimetype": "text/x-python",
   "name": "python",
   "nbconvert_exporter": "python",
   "pygments_lexer": "ipython3",
   "version": "3.10.6"
  },
  "toc-autonumbering": true
 },
 "nbformat": 4,
 "nbformat_minor": 4
}
