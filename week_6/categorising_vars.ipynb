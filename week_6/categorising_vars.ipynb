{
 "cells": [
  {
   "cell_type": "markdown",
   "id": "accepting-california",
   "metadata": {},
   "source": [
    "# STAT1100 Data Communication and Modelling\n",
    "\n",
    "## Categorising Variables"
   ]
  },
  {
   "cell_type": "code",
   "execution_count": 1,
   "id": "caring-start",
   "metadata": {},
   "outputs": [
    {
     "name": "stdout",
     "output_type": "stream",
     "text": [
      "2.2.1\n"
     ]
    }
   ],
   "source": [
    "import pandas as pd\n",
    "print(pd.__version__)"
   ]
  },
  {
   "cell_type": "markdown",
   "id": "productive-cleaner",
   "metadata": {},
   "source": [
    "### Heart data set\n",
    "\n",
    "The `heart` data set is from the text: Wild and Seber (2000). *Chance Encounters: A First Course in Data Analysis and Inference.* Wiley, New York. Page 39. The data are a subset of data from a study of male heart attack patients admitted to a hospital in Auckland, N.Z. Every patient has the information in the table below measured and recorded.\n",
    "\n",
    "Variable | Description\n",
    "---|---\n",
    "ID | A patient identifier instead of a name to protect a patient’s privacy.\n",
    "EJEC | Ejection fraction, the percentage of blood in the left ventricle of the heart ejected in one beat.\n",
    "SYSVOL | End-systolic volume, a measure of the size of the heart. This is calculated from a two dimensional silhouette picture of the left ventricle at its smallest part.\n",
    "DIAVOL | End-diastolic volume. The same as SYSVOL, except that the largest silhouette is used.\n",
    "OCCLU | Occlusion score, or, percentage of the myocardium of the left ventricle supplied by arteries that are totally blocked.\n",
    "STEN | Stenosis score, or percentage supplied by the arteries that are significantly narrowed but not completely blocked.\n",
    "TIME | Time in months from when patient was admitted until OUTCOME occurs.\n",
    "OUTCOME | Coded variable with the following levels: 0 = alive at last follow up, 1 = sudden cardiac death, 2 = death within 30 days of heart attack, 3 = death from heart failure, 4 = death during or after coronary surgery, 5 = noncardiac death.\n",
    "AGE | The age in years of the patient at admission.\n",
    "SMOKE | Whether the patient continued to smoke: 1 = yes, 2 = no.\n",
    "BETA | Whether the patient was taking drugs called beta blockers: 1 = yes, 2 = no.\n",
    "CHOL | Blood cholesterol measured in millimoles per litre.\n",
    "SURG | Whether the patient had surgery, including reason for surgery: 0 = no surgery, 1 = surgery as part of trial, 2 = surgery for symptoms within one year, 3 = surgery for symptoms within one to five years, 4 = surgery for symptoms after five years.\n",
    "\n",
    "When reading the data set into a data frame we pass a dictionary of (variable, dtype) pairs to the `dtype` parameter to cast the categorical variables *OUTCOME*, *SMOKE*, *BETA*, and *SURG*, to the `category` dtype."
   ]
  },
  {
   "cell_type": "code",
   "execution_count": 2,
   "id": "positive-structure",
   "metadata": {},
   "outputs": [
    {
     "data": {
      "text/plain": [
       "{'OUTCOME': 'category',\n",
       " 'SMOKE': 'category',\n",
       " 'BETA': 'category',\n",
       " 'SURG': 'category'}"
      ]
     },
     "execution_count": 2,
     "metadata": {},
     "output_type": "execute_result"
    }
   ],
   "source": [
    "cat_vars = [\"OUTCOME\", \"SMOKE\", \"BETA\", \"SURG\"]\n",
    "dtypes = dict((v, \"category\") for v in cat_vars)\n",
    "dtypes"
   ]
  },
  {
   "cell_type": "code",
   "execution_count": 3,
   "id": "stopped-chain",
   "metadata": {},
   "outputs": [
    {
     "name": "stdout",
     "output_type": "stream",
     "text": [
      "<class 'pandas.core.frame.DataFrame'>\n",
      "RangeIndex: 45 entries, 0 to 44\n",
      "Data columns (total 13 columns):\n",
      " #   Column   Non-Null Count  Dtype   \n",
      "---  ------   --------------  -----   \n",
      " 0   ID       45 non-null     int64   \n",
      " 1   EJEC     45 non-null     int64   \n",
      " 2   SYSVOL   45 non-null     int64   \n",
      " 3   DIAVOL   45 non-null     int64   \n",
      " 4   OCCLU    45 non-null     int64   \n",
      " 5   STEN     45 non-null     int64   \n",
      " 6   TIME     45 non-null     int64   \n",
      " 7   OUTCOME  45 non-null     category\n",
      " 8   AGE      45 non-null     int64   \n",
      " 9   SMOKE    45 non-null     category\n",
      " 10  BETA     45 non-null     category\n",
      " 11  CHOL     32 non-null     float64 \n",
      " 12  SURG     45 non-null     category\n",
      "dtypes: category(4), float64(1), int64(8)\n",
      "memory usage: 3.9 KB\n"
     ]
    }
   ],
   "source": [
    "heart = pd.read_csv(\"data/heart.csv\", dtype=dtypes)\n",
    "heart.info()"
   ]
  },
  {
   "cell_type": "code",
   "execution_count": 4,
   "id": "gothic-aging",
   "metadata": {},
   "outputs": [
    {
     "name": "stdout",
     "output_type": "stream",
     "text": [
      "Index(['alive at last follow-up', 'death from heart failure',\n",
      "       'death within 30 days of heart attack', 'non-cardiac death',\n",
      "       'sudden cardiac death'],\n",
      "      dtype='object')\n",
      "Index(['no', 'yes'], dtype='object')\n",
      "Index(['no', 'yes'], dtype='object')\n",
      "Index(['no surgery', 'surgery as part of trial',\n",
      "       'surgery for symptoms after 5 years',\n",
      "       'surgery for symptoms within 1 to 5 years',\n",
      "       'surgery for symptoms within 1 year'],\n",
      "      dtype='object')\n"
     ]
    }
   ],
   "source": [
    "for v in cat_vars:\n",
    "    print(heart[v].cat.categories)"
   ]
  },
  {
   "cell_type": "markdown",
   "id": "signed-filter",
   "metadata": {},
   "source": [
    "### Categorising a numerical variable"
   ]
  },
  {
   "cell_type": "markdown",
   "id": "metropolitan-precipitation",
   "metadata": {},
   "source": [
    "Consider the continuous variable *AGE* in years and suppose that we want to categorise it into age groups. The function [cut()](https://pandas.pydata.org/pandas-docs/stable/reference/api/pandas.cut.html) allows us to bin values into discrete intervals. The following code creates a new *ordinal* categorical variable that indicates which decade the person's age falls into. Setting the parameter `right=False` returns intervals that are left-closed, right-open. Custom labels can be specified using the `labels` parameter. "
   ]
  },
  {
   "cell_type": "code",
   "execution_count": 5,
   "id": "bright-insured",
   "metadata": {},
   "outputs": [
    {
     "name": "stdout",
     "output_type": "stream",
     "text": [
      "[0, 10, 20, 30, 40, 50, 60, 70, 80, 90, 100, 110, 120]\n"
     ]
    }
   ],
   "source": [
    "bins = [10*i for i in range(13)]\n",
    "print(bins)"
   ]
  },
  {
   "cell_type": "code",
   "execution_count": 6,
   "id": "painful-intent",
   "metadata": {},
   "outputs": [
    {
     "name": "stdout",
     "output_type": "stream",
     "text": [
      "IntervalIndex([   [0, 10),   [10, 20),   [20, 30),   [30, 40),   [40, 50),\n",
      "                 [50, 60),   [60, 70),   [70, 80),   [80, 90),  [90, 100),\n",
      "               [100, 110), [110, 120)],\n",
      "              dtype='interval[int64, left]')\n"
     ]
    },
    {
     "data": {
      "text/html": [
       "<div>\n",
       "<style scoped>\n",
       "    .dataframe tbody tr th:only-of-type {\n",
       "        vertical-align: middle;\n",
       "    }\n",
       "\n",
       "    .dataframe tbody tr th {\n",
       "        vertical-align: top;\n",
       "    }\n",
       "\n",
       "    .dataframe thead th {\n",
       "        text-align: right;\n",
       "    }\n",
       "</style>\n",
       "<table border=\"1\" class=\"dataframe\">\n",
       "  <thead>\n",
       "    <tr style=\"text-align: right;\">\n",
       "      <th></th>\n",
       "      <th>AGE</th>\n",
       "      <th>DECADE</th>\n",
       "    </tr>\n",
       "  </thead>\n",
       "  <tbody>\n",
       "    <tr>\n",
       "      <th>0</th>\n",
       "      <td>49</td>\n",
       "      <td>[40, 50)</td>\n",
       "    </tr>\n",
       "    <tr>\n",
       "      <th>1</th>\n",
       "      <td>54</td>\n",
       "      <td>[50, 60)</td>\n",
       "    </tr>\n",
       "    <tr>\n",
       "      <th>2</th>\n",
       "      <td>56</td>\n",
       "      <td>[50, 60)</td>\n",
       "    </tr>\n",
       "    <tr>\n",
       "      <th>3</th>\n",
       "      <td>42</td>\n",
       "      <td>[40, 50)</td>\n",
       "    </tr>\n",
       "    <tr>\n",
       "      <th>4</th>\n",
       "      <td>46</td>\n",
       "      <td>[40, 50)</td>\n",
       "    </tr>\n",
       "  </tbody>\n",
       "</table>\n",
       "</div>"
      ],
      "text/plain": [
       "   AGE    DECADE\n",
       "0   49  [40, 50)\n",
       "1   54  [50, 60)\n",
       "2   56  [50, 60)\n",
       "3   42  [40, 50)\n",
       "4   46  [40, 50)"
      ]
     },
     "execution_count": 6,
     "metadata": {},
     "output_type": "execute_result"
    }
   ],
   "source": [
    "heart[\"DECADE\"] = pd.cut(heart[\"AGE\"], bins, right=False)\n",
    "print(heart[\"DECADE\"].cat.categories)\n",
    "heart[[\"AGE\",\"DECADE\"]].head()"
   ]
  },
  {
   "cell_type": "markdown",
   "id": "exclusive-symphony",
   "metadata": {},
   "source": [
    "### Collapsing categories"
   ]
  },
  {
   "cell_type": "markdown",
   "id": "french-cherry",
   "metadata": {},
   "source": [
    "Consider the coded categorical variable *SURG*."
   ]
  },
  {
   "cell_type": "code",
   "execution_count": 7,
   "id": "opponent-latest",
   "metadata": {},
   "outputs": [
    {
     "name": "stdout",
     "output_type": "stream",
     "text": [
      "Index(['no surgery', 'surgery as part of trial',\n",
      "       'surgery for symptoms after 5 years',\n",
      "       'surgery for symptoms within 1 to 5 years',\n",
      "       'surgery for symptoms within 1 year'],\n",
      "      dtype='object')\n"
     ]
    },
    {
     "data": {
      "text/plain": [
       "0    32\n",
       "1     5\n",
       "4     4\n",
       "2     2\n",
       "3     2\n",
       "Name: count, dtype: int64"
      ]
     },
     "execution_count": 7,
     "metadata": {},
     "output_type": "execute_result"
    }
   ],
   "source": [
    "print(heart[\"SURG\"].cat.categories)\n",
    "heart[\"SURG\"].cat.codes.value_counts()"
   ]
  },
  {
   "cell_type": "markdown",
   "id": "aggressive-spine",
   "metadata": {},
   "source": [
    "Suppose that we wish to create a new coded categorical variable *SURG_SIMPLE* with fewer categories according to the following table:\n",
    "\n",
    "| Code | Description |\n",
    "|---|---|\n",
    "| 0 | no surgery |\n",
    "| 1 | surgery as part of trial |\n",
    "| 2 | surgery for symptoms |\n",
    "\n",
    "For convenience we create a variable *SURG_CAT* that contains the *SURG* variable codes. We then create a function that collapses the categories of the *SURG* variable: given a *SURG* variable category code it returns the corresponding new category code."
   ]
  },
  {
   "cell_type": "code",
   "execution_count": 8,
   "id": "wicked-sleeve",
   "metadata": {},
   "outputs": [
    {
     "name": "stdout",
     "output_type": "stream",
     "text": [
      "0 0\n",
      "1 1\n",
      "2 2\n",
      "3 2\n",
      "4 2\n"
     ]
    }
   ],
   "source": [
    "heart[\"SURG_CAT\"] = heart[\"SURG\"].cat.codes\n",
    "\n",
    "def surg_simple(x):\n",
    "    return x if x in [0,1] else 2\n",
    "\n",
    "# Test the function\n",
    "for i in range(5):\n",
    "    print(i, surg_simple(i))"
   ]
  },
  {
   "cell_type": "markdown",
   "id": "sapphire-information",
   "metadata": {},
   "source": [
    "Now we can use the [apply()](https://pandas.pydata.org/pandas-docs/stable/reference/api/pandas.Series.apply.html) method to invoke the function for each value of the variable *SURG*."
   ]
  },
  {
   "cell_type": "code",
   "execution_count": 9,
   "id": "private-graham",
   "metadata": {},
   "outputs": [
    {
     "data": {
      "text/plain": [
       "SURG_SIMPLE\n",
       "0    32\n",
       "2     8\n",
       "1     5\n",
       "Name: count, dtype: int64"
      ]
     },
     "execution_count": 9,
     "metadata": {},
     "output_type": "execute_result"
    }
   ],
   "source": [
    "heart[\"SURG_SIMPLE\"] = heart[\"SURG_CAT\"].apply(surg_simple)\n",
    "# Check counts are consistent with those for SURG\n",
    "heart[\"SURG_SIMPLE\"].value_counts()"
   ]
  },
  {
   "cell_type": "markdown",
   "id": "motivated-prefix",
   "metadata": {},
   "source": [
    "Finally we convert the variable *SURG_SIMPLE* to a coded categorical variable and check for errors."
   ]
  },
  {
   "cell_type": "code",
   "execution_count": 10,
   "id": "e4230019-3076-41a8-9b5c-c21ddacaa396",
   "metadata": {},
   "outputs": [
    {
     "data": {
      "text/html": [
       "<div>\n",
       "<style scoped>\n",
       "    .dataframe tbody tr th:only-of-type {\n",
       "        vertical-align: middle;\n",
       "    }\n",
       "\n",
       "    .dataframe tbody tr th {\n",
       "        vertical-align: top;\n",
       "    }\n",
       "\n",
       "    .dataframe thead th {\n",
       "        text-align: right;\n",
       "    }\n",
       "</style>\n",
       "<table border=\"1\" class=\"dataframe\">\n",
       "  <thead>\n",
       "    <tr style=\"text-align: right;\">\n",
       "      <th></th>\n",
       "      <th>SURG</th>\n",
       "      <th>SURG_SIMPLE</th>\n",
       "    </tr>\n",
       "  </thead>\n",
       "  <tbody>\n",
       "    <tr>\n",
       "      <th>0</th>\n",
       "      <td>no surgery</td>\n",
       "      <td>0</td>\n",
       "    </tr>\n",
       "    <tr>\n",
       "      <th>1</th>\n",
       "      <td>surgery as part of trial</td>\n",
       "      <td>1</td>\n",
       "    </tr>\n",
       "  </tbody>\n",
       "</table>\n",
       "</div>"
      ],
      "text/plain": [
       "                       SURG SURG_SIMPLE\n",
       "0                no surgery           0\n",
       "1  surgery as part of trial           1"
      ]
     },
     "execution_count": 10,
     "metadata": {},
     "output_type": "execute_result"
    }
   ],
   "source": [
    "heart[\"SURG_SIMPLE\"] = heart[\"SURG_SIMPLE\"].astype('category')\n",
    "heart[\"SURG_SIMPLE\"].cat.rename_categories([\"no surgery\", \"surgery as part of trial\", \"surgery for symptoms\"])\n",
    "heart[[\"SURG\",\"SURG_SIMPLE\"]].head(2)"
   ]
  },
  {
   "cell_type": "code",
   "execution_count": 11,
   "id": "attached-illinois",
   "metadata": {},
   "outputs": [
    {
     "data": {
      "text/html": [
       "<div>\n",
       "<style scoped>\n",
       "    .dataframe tbody tr th:only-of-type {\n",
       "        vertical-align: middle;\n",
       "    }\n",
       "\n",
       "    .dataframe tbody tr th {\n",
       "        vertical-align: top;\n",
       "    }\n",
       "\n",
       "    .dataframe thead th {\n",
       "        text-align: right;\n",
       "    }\n",
       "</style>\n",
       "<table border=\"1\" class=\"dataframe\">\n",
       "  <thead>\n",
       "    <tr style=\"text-align: right;\">\n",
       "      <th></th>\n",
       "      <th>SURG</th>\n",
       "      <th>SURG_SIMPLE</th>\n",
       "    </tr>\n",
       "  </thead>\n",
       "  <tbody>\n",
       "    <tr>\n",
       "      <th>5</th>\n",
       "      <td>surgery for symptoms within 1 year</td>\n",
       "      <td>2</td>\n",
       "    </tr>\n",
       "    <tr>\n",
       "      <th>13</th>\n",
       "      <td>surgery for symptoms within 1 year</td>\n",
       "      <td>2</td>\n",
       "    </tr>\n",
       "    <tr>\n",
       "      <th>15</th>\n",
       "      <td>surgery for symptoms within 1 year</td>\n",
       "      <td>2</td>\n",
       "    </tr>\n",
       "    <tr>\n",
       "      <th>23</th>\n",
       "      <td>surgery for symptoms after 5 years</td>\n",
       "      <td>2</td>\n",
       "    </tr>\n",
       "    <tr>\n",
       "      <th>31</th>\n",
       "      <td>surgery for symptoms within 1 to 5 years</td>\n",
       "      <td>2</td>\n",
       "    </tr>\n",
       "    <tr>\n",
       "      <th>37</th>\n",
       "      <td>surgery for symptoms after 5 years</td>\n",
       "      <td>2</td>\n",
       "    </tr>\n",
       "    <tr>\n",
       "      <th>40</th>\n",
       "      <td>surgery for symptoms within 1 to 5 years</td>\n",
       "      <td>2</td>\n",
       "    </tr>\n",
       "    <tr>\n",
       "      <th>44</th>\n",
       "      <td>surgery for symptoms within 1 year</td>\n",
       "      <td>2</td>\n",
       "    </tr>\n",
       "  </tbody>\n",
       "</table>\n",
       "</div>"
      ],
      "text/plain": [
       "                                        SURG SURG_SIMPLE\n",
       "5         surgery for symptoms within 1 year           2\n",
       "13        surgery for symptoms within 1 year           2\n",
       "15        surgery for symptoms within 1 year           2\n",
       "23        surgery for symptoms after 5 years           2\n",
       "31  surgery for symptoms within 1 to 5 years           2\n",
       "37        surgery for symptoms after 5 years           2\n",
       "40  surgery for symptoms within 1 to 5 years           2\n",
       "44        surgery for symptoms within 1 year           2"
      ]
     },
     "execution_count": 11,
     "metadata": {},
     "output_type": "execute_result"
    }
   ],
   "source": [
    "heart.loc[heart[\"SURG\"].str.contains(\"symptoms\"), [\"SURG\",\"SURG_SIMPLE\"]]"
   ]
  },
  {
   "cell_type": "markdown",
   "id": "rocky-miller",
   "metadata": {},
   "source": [
    "### Creating \"flag\" variables\n",
    "\n",
    "Consider the *OUTCOME* variable and suppose that we wish to filter the data set depending upon whether the patient was alive at the last follow up, or dead. For convenience we may want to create a \"flag\" variable *ALIVE* that, in this case, is either `True` or `False`. There are many ways in which this can be done. We could again use an appropriately written function with the [apply()](https://pandas.pydata.org/pandas-docs/stable/reference/api/pandas.Series.apply.html) method, and this might be necessary in more complicated settings, but here we will simply use one of the binary operator methods, namely [eq()](https://pandas.pydata.org/pandas-docs/stable/reference/api/pandas.Series.eq.html)."
   ]
  },
  {
   "cell_type": "code",
   "execution_count": 12,
   "id": "sexual-objective",
   "metadata": {},
   "outputs": [
    {
     "data": {
      "text/html": [
       "<div>\n",
       "<style scoped>\n",
       "    .dataframe tbody tr th:only-of-type {\n",
       "        vertical-align: middle;\n",
       "    }\n",
       "\n",
       "    .dataframe tbody tr th {\n",
       "        vertical-align: top;\n",
       "    }\n",
       "\n",
       "    .dataframe thead th {\n",
       "        text-align: right;\n",
       "    }\n",
       "</style>\n",
       "<table border=\"1\" class=\"dataframe\">\n",
       "  <thead>\n",
       "    <tr style=\"text-align: right;\">\n",
       "      <th></th>\n",
       "      <th>OUTCOME</th>\n",
       "      <th>ALIVE</th>\n",
       "    </tr>\n",
       "  </thead>\n",
       "  <tbody>\n",
       "    <tr>\n",
       "      <th>40</th>\n",
       "      <td>alive at last follow-up</td>\n",
       "      <td>True</td>\n",
       "    </tr>\n",
       "    <tr>\n",
       "      <th>41</th>\n",
       "      <td>death from heart failure</td>\n",
       "      <td>False</td>\n",
       "    </tr>\n",
       "    <tr>\n",
       "      <th>42</th>\n",
       "      <td>sudden cardiac death</td>\n",
       "      <td>False</td>\n",
       "    </tr>\n",
       "    <tr>\n",
       "      <th>43</th>\n",
       "      <td>alive at last follow-up</td>\n",
       "      <td>True</td>\n",
       "    </tr>\n",
       "    <tr>\n",
       "      <th>44</th>\n",
       "      <td>sudden cardiac death</td>\n",
       "      <td>False</td>\n",
       "    </tr>\n",
       "  </tbody>\n",
       "</table>\n",
       "</div>"
      ],
      "text/plain": [
       "                     OUTCOME  ALIVE\n",
       "40   alive at last follow-up   True\n",
       "41  death from heart failure  False\n",
       "42      sudden cardiac death  False\n",
       "43   alive at last follow-up   True\n",
       "44      sudden cardiac death  False"
      ]
     },
     "execution_count": 12,
     "metadata": {},
     "output_type": "execute_result"
    }
   ],
   "source": [
    "heart[\"ALIVE\"] = heart[\"OUTCOME\"].eq(\"alive at last follow-up\")\n",
    "heart[[\"OUTCOME\",\"ALIVE\"]].tail()"
   ]
  },
  {
   "cell_type": "code",
   "execution_count": null,
   "id": "2caa14cc-81f4-4636-9013-4aadf9eaa98d",
   "metadata": {},
   "outputs": [],
   "source": []
  }
 ],
 "metadata": {
  "kernelspec": {
   "display_name": "Python 3 (ipykernel)",
   "language": "python",
   "name": "python3"
  },
  "language_info": {
   "codemirror_mode": {
    "name": "ipython",
    "version": 3
   },
   "file_extension": ".py",
   "mimetype": "text/x-python",
   "name": "python",
   "nbconvert_exporter": "python",
   "pygments_lexer": "ipython3",
   "version": "3.11.8"
  }
 },
 "nbformat": 4,
 "nbformat_minor": 5
}
