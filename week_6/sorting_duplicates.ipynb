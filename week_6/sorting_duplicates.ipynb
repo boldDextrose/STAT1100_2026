{
 "cells": [
  {
   "cell_type": "markdown",
   "id": "cosmetic-centre",
   "metadata": {},
   "source": [
    "# STAT1100 Data Communication and Modelling\n",
    "\n",
    "## Sorting Data and Identifying Duplicates"
   ]
  },
  {
   "cell_type": "code",
   "execution_count": 1,
   "id": "identical-satin",
   "metadata": {},
   "outputs": [
    {
     "name": "stdout",
     "output_type": "stream",
     "text": [
      "1.2.3\n"
     ]
    }
   ],
   "source": [
    "import pandas as pd\n",
    "print(pd.__version__)"
   ]
  },
  {
   "cell_type": "markdown",
   "id": "aggregate-graduation",
   "metadata": {},
   "source": [
    "### Data sets\n",
    "\n",
    "<a id='brainsize'></a>\n",
    "#### Brain size\n",
    "\n",
    "The `brainsize` data set is taken from Willerman, L., Schultz, R., Rutledge, J. N., and Bigler, E. (1991). In Vivo Brain Size and Intelligence, Intelligence, 15, 223-228.\n",
    "\n",
    "The data are a sample of 40 right-handed university students (20 male and 20 female). Participants undertook the Wechsler Adult Intelligence Scale, resulting in three measurements: Full IQ, Verbal IQ, and Performance IQ. The researchers used Magnetic Resonance Imaging (MRI) to determine the brain size of the subjects (size was measured as total pixel count from the MRI scan). Information about gender and body size (height in inches and weight in pounds) are also included. The researchers withheld the weights of two subjects and the height of one subject for reasons of confidentiality."
   ]
  },
  {
   "cell_type": "code",
   "execution_count": 2,
   "id": "satisfied-thriller",
   "metadata": {},
   "outputs": [
    {
     "name": "stdout",
     "output_type": "stream",
     "text": [
      "<class 'pandas.core.frame.DataFrame'>\n",
      "RangeIndex: 40 entries, 0 to 39\n",
      "Data columns (total 7 columns):\n",
      " #   Column     Non-Null Count  Dtype  \n",
      "---  ------     --------------  -----  \n",
      " 0   Gender     40 non-null     object \n",
      " 1   FSIQ       40 non-null     int64  \n",
      " 2   VIQ        40 non-null     int64  \n",
      " 3   PIQ        40 non-null     int64  \n",
      " 4   Weight     38 non-null     float64\n",
      " 5   Height     39 non-null     float64\n",
      " 6   MRI_Count  40 non-null     int64  \n",
      "dtypes: float64(2), int64(4), object(1)\n",
      "memory usage: 2.3+ KB\n"
     ]
    }
   ],
   "source": [
    "brainsize = pd.read_csv(\"data/brainsize.csv\")\n",
    "brainsize.info()"
   ]
  },
  {
   "cell_type": "markdown",
   "id": "orange-estimate",
   "metadata": {},
   "source": [
    "There is also a \"dirty\" version of the `brainsize` data set that contains some duplicate and suspect rows for the purposes of illustrating the concepts here."
   ]
  },
  {
   "cell_type": "code",
   "execution_count": 3,
   "id": "recorded-burden",
   "metadata": {},
   "outputs": [
    {
     "name": "stdout",
     "output_type": "stream",
     "text": [
      "<class 'pandas.core.frame.DataFrame'>\n",
      "RangeIndex: 47 entries, 0 to 46\n",
      "Data columns (total 7 columns):\n",
      " #   Column     Non-Null Count  Dtype  \n",
      "---  ------     --------------  -----  \n",
      " 0   Gender     47 non-null     object \n",
      " 1   FSIQ       47 non-null     int64  \n",
      " 2   VIQ        47 non-null     int64  \n",
      " 3   PIQ        46 non-null     float64\n",
      " 4   Weight     42 non-null     float64\n",
      " 5   Height     43 non-null     float64\n",
      " 6   MRI_Count  47 non-null     int64  \n",
      "dtypes: float64(3), int64(3), object(1)\n",
      "memory usage: 2.7+ KB\n"
     ]
    }
   ],
   "source": [
    "brainsize_dirty = pd.read_csv(\"data/brainsize_dirty.csv\")\n",
    "brainsize_dirty.info()"
   ]
  },
  {
   "cell_type": "markdown",
   "id": "after-lecture",
   "metadata": {},
   "source": [
    "<a id='CAERS'></a>\n",
    "#### Adverse food\n",
    "\n",
    "The `caers` data set is taken from a US FDA's Centre for Food Safety and Applied Nutrition (CFSAN) Adverse Events Reporting System (CAERS) report of reports of adverse events resulting from regulating products (including foods, dietary supplements, and cosmetics). The data description is shown below.\n",
    "\n",
    "| Name of CAERS data field | Description |\n",
    "|---|---|\n",
    "| RA_Report | The unique number that identifies each case. |\n",
    "| RA_CAERS Created Date | The date on which the data were first entered into CAERS from an adverse event report. |\n",
    "| AEC_Event Start Date | The reported date on which the consumer first experienced the adverse event. |\n",
    "| PRI_Product Role | Suspect or concomitant (as reported) |\n",
    "| PRI_Reported Brand/Product Name | The verbatim brands and/or product names indicated to have been used by the consumer reported to have experienced the adverse event. An adverse event report may specify consumption of a single product or multiple products. |\n",
    "| PRI_FDA Industry Code | The FDA industry code associated with the type of product reported. |\n",
    "| PRI_FDA Industry Name | The FDA industry description associated with the type of product reported. (Ice cream products, cosmetics, Coffee/Tea) |\n",
    "| CI_Age at Adverse Event | The age of the consumer reported to have experienced the adverse event. |\n",
    "| CI_Age Unit | The time unit (day, week, month, year) of the age provided in the CI_Age at Adverse Event data field for the consumer reported to have experienced the adverse event. |\n",
    "| CI_Gender | The sex of the individual reported to have experienced the adverse event. |\n",
    "| AEC_One Row Outcomes | Outcome(s) of the adverse event experienced by the injured consumer as specified by the reporter; each report may indicate one or more outcomes for each consumer. |\n",
    "| SYM_One Row Coded Symptoms | The symptom(s) experienced by the injured consumer as specified by the reporter and coded by FDA according to the Medical Data Dictionary for Regulatory Activities (MedDRA). Each adverse event report may indicate one or more symptoms for each consumer. |"
   ]
  },
  {
   "cell_type": "code",
   "execution_count": 4,
   "id": "purple-lending",
   "metadata": {},
   "outputs": [
    {
     "name": "stdout",
     "output_type": "stream",
     "text": [
      "<class 'pandas.core.frame.DataFrame'>\n",
      "RangeIndex: 90786 entries, 0 to 90785\n",
      "Data columns (total 13 columns):\n",
      " #   Column                           Non-Null Count  Dtype         \n",
      "---  ------                           --------------  -----         \n",
      " 0   RA_Report                        90786 non-null  int64         \n",
      " 1   RA_CAERS Created Date            90786 non-null  datetime64[ns]\n",
      " 2   AEC_Event Start Date             53653 non-null  datetime64[ns]\n",
      " 3   PRI_Product Role                 90786 non-null  object        \n",
      " 4   PRI_Reported Brand/Product Name  90786 non-null  object        \n",
      " 5   PRI_FDA Industry Code            90786 non-null  int64         \n",
      " 6   PRI_FDA Industry Name            90786 non-null  object        \n",
      " 7   CI_Age at Adverse Event          52926 non-null  float64       \n",
      " 8   CI_Age Unit                      90786 non-null  object        \n",
      " 9   CI_Gender                        90786 non-null  object        \n",
      " 10  AEC_One Row Outcomes             90786 non-null  object        \n",
      " 11  SYM_One Row Coded Symptoms       90781 non-null  object        \n",
      " 12  Most Severe Outcome              90786 non-null  object        \n",
      "dtypes: datetime64[ns](2), float64(1), int64(2), object(8)\n",
      "memory usage: 9.0+ MB\n"
     ]
    }
   ],
   "source": [
    "caers = pd.read_csv(\"data/CAERS_ASCII_2004_2017Q2_modified.csv\",\n",
    "                    parse_dates=[1,2])\n",
    "caers.info()"
   ]
  },
  {
   "cell_type": "markdown",
   "id": "clear-brain",
   "metadata": {},
   "source": [
    "### Sorting data\n",
    "\n",
    "The [brainsize](#brainsize) data set is not sorted. The first five observations are shown below for comparison."
   ]
  },
  {
   "cell_type": "code",
   "execution_count": 5,
   "id": "great-motel",
   "metadata": {},
   "outputs": [
    {
     "data": {
      "text/html": [
       "<div>\n",
       "<style scoped>\n",
       "    .dataframe tbody tr th:only-of-type {\n",
       "        vertical-align: middle;\n",
       "    }\n",
       "\n",
       "    .dataframe tbody tr th {\n",
       "        vertical-align: top;\n",
       "    }\n",
       "\n",
       "    .dataframe thead th {\n",
       "        text-align: right;\n",
       "    }\n",
       "</style>\n",
       "<table border=\"1\" class=\"dataframe\">\n",
       "  <thead>\n",
       "    <tr style=\"text-align: right;\">\n",
       "      <th></th>\n",
       "      <th>Gender</th>\n",
       "      <th>FSIQ</th>\n",
       "      <th>VIQ</th>\n",
       "      <th>PIQ</th>\n",
       "      <th>Weight</th>\n",
       "      <th>Height</th>\n",
       "      <th>MRI_Count</th>\n",
       "    </tr>\n",
       "  </thead>\n",
       "  <tbody>\n",
       "    <tr>\n",
       "      <th>0</th>\n",
       "      <td>Female</td>\n",
       "      <td>133</td>\n",
       "      <td>132</td>\n",
       "      <td>124</td>\n",
       "      <td>118.0</td>\n",
       "      <td>64.5</td>\n",
       "      <td>816932</td>\n",
       "    </tr>\n",
       "    <tr>\n",
       "      <th>1</th>\n",
       "      <td>Male</td>\n",
       "      <td>140</td>\n",
       "      <td>150</td>\n",
       "      <td>124</td>\n",
       "      <td>NaN</td>\n",
       "      <td>72.5</td>\n",
       "      <td>1001121</td>\n",
       "    </tr>\n",
       "    <tr>\n",
       "      <th>2</th>\n",
       "      <td>Male</td>\n",
       "      <td>139</td>\n",
       "      <td>123</td>\n",
       "      <td>150</td>\n",
       "      <td>143.0</td>\n",
       "      <td>73.3</td>\n",
       "      <td>1038437</td>\n",
       "    </tr>\n",
       "    <tr>\n",
       "      <th>3</th>\n",
       "      <td>Male</td>\n",
       "      <td>133</td>\n",
       "      <td>129</td>\n",
       "      <td>128</td>\n",
       "      <td>172.0</td>\n",
       "      <td>68.8</td>\n",
       "      <td>965353</td>\n",
       "    </tr>\n",
       "    <tr>\n",
       "      <th>4</th>\n",
       "      <td>Female</td>\n",
       "      <td>137</td>\n",
       "      <td>132</td>\n",
       "      <td>134</td>\n",
       "      <td>147.0</td>\n",
       "      <td>65.0</td>\n",
       "      <td>951545</td>\n",
       "    </tr>\n",
       "  </tbody>\n",
       "</table>\n",
       "</div>"
      ],
      "text/plain": [
       "   Gender  FSIQ  VIQ  PIQ  Weight  Height  MRI_Count\n",
       "0  Female   133  132  124   118.0    64.5     816932\n",
       "1    Male   140  150  124     NaN    72.5    1001121\n",
       "2    Male   139  123  150   143.0    73.3    1038437\n",
       "3    Male   133  129  128   172.0    68.8     965353\n",
       "4  Female   137  132  134   147.0    65.0     951545"
      ]
     },
     "execution_count": 5,
     "metadata": {},
     "output_type": "execute_result"
    }
   ],
   "source": [
    "brainsize.head()"
   ]
  },
  {
   "cell_type": "markdown",
   "id": "super-secret",
   "metadata": {},
   "source": [
    "To arrange the observations in the order of the variable *FSIQ* we use the [sort_values()](https://pandas.pydata.org/pandas-docs/stable/reference/api/pandas.DataFrame.sort_values.html) method and the `by` parameter."
   ]
  },
  {
   "cell_type": "code",
   "execution_count": 6,
   "id": "devoted-phase",
   "metadata": {},
   "outputs": [
    {
     "data": {
      "text/html": [
       "<div>\n",
       "<style scoped>\n",
       "    .dataframe tbody tr th:only-of-type {\n",
       "        vertical-align: middle;\n",
       "    }\n",
       "\n",
       "    .dataframe tbody tr th {\n",
       "        vertical-align: top;\n",
       "    }\n",
       "\n",
       "    .dataframe thead th {\n",
       "        text-align: right;\n",
       "    }\n",
       "</style>\n",
       "<table border=\"1\" class=\"dataframe\">\n",
       "  <thead>\n",
       "    <tr style=\"text-align: right;\">\n",
       "      <th></th>\n",
       "      <th>Gender</th>\n",
       "      <th>FSIQ</th>\n",
       "      <th>VIQ</th>\n",
       "      <th>PIQ</th>\n",
       "      <th>Weight</th>\n",
       "      <th>Height</th>\n",
       "      <th>MRI_Count</th>\n",
       "    </tr>\n",
       "  </thead>\n",
       "  <tbody>\n",
       "    <tr>\n",
       "      <th>28</th>\n",
       "      <td>Female</td>\n",
       "      <td>77</td>\n",
       "      <td>83</td>\n",
       "      <td>72</td>\n",
       "      <td>106.0</td>\n",
       "      <td>63.0</td>\n",
       "      <td>793549</td>\n",
       "    </tr>\n",
       "    <tr>\n",
       "      <th>19</th>\n",
       "      <td>Male</td>\n",
       "      <td>80</td>\n",
       "      <td>77</td>\n",
       "      <td>86</td>\n",
       "      <td>180.0</td>\n",
       "      <td>70.0</td>\n",
       "      <td>889083</td>\n",
       "    </tr>\n",
       "    <tr>\n",
       "      <th>38</th>\n",
       "      <td>Male</td>\n",
       "      <td>81</td>\n",
       "      <td>90</td>\n",
       "      <td>74</td>\n",
       "      <td>148.0</td>\n",
       "      <td>74.0</td>\n",
       "      <td>930016</td>\n",
       "    </tr>\n",
       "    <tr>\n",
       "      <th>34</th>\n",
       "      <td>Female</td>\n",
       "      <td>83</td>\n",
       "      <td>90</td>\n",
       "      <td>81</td>\n",
       "      <td>143.0</td>\n",
       "      <td>66.5</td>\n",
       "      <td>834344</td>\n",
       "    </tr>\n",
       "    <tr>\n",
       "      <th>20</th>\n",
       "      <td>Male</td>\n",
       "      <td>83</td>\n",
       "      <td>83</td>\n",
       "      <td>86</td>\n",
       "      <td>NaN</td>\n",
       "      <td>NaN</td>\n",
       "      <td>892420</td>\n",
       "    </tr>\n",
       "  </tbody>\n",
       "</table>\n",
       "</div>"
      ],
      "text/plain": [
       "    Gender  FSIQ  VIQ  PIQ  Weight  Height  MRI_Count\n",
       "28  Female    77   83   72   106.0    63.0     793549\n",
       "19    Male    80   77   86   180.0    70.0     889083\n",
       "38    Male    81   90   74   148.0    74.0     930016\n",
       "34  Female    83   90   81   143.0    66.5     834344\n",
       "20    Male    83   83   86     NaN     NaN     892420"
      ]
     },
     "execution_count": 6,
     "metadata": {},
     "output_type": "execute_result"
    }
   ],
   "source": [
    "brainsize.sort_values(by=\"FSIQ\").head()"
   ]
  },
  {
   "cell_type": "markdown",
   "id": "wrapped-orbit",
   "metadata": {},
   "source": [
    "To arrange the observations in descending order set the `ascending` parameter to `False`."
   ]
  },
  {
   "cell_type": "code",
   "execution_count": 7,
   "id": "grand-hobby",
   "metadata": {},
   "outputs": [
    {
     "data": {
      "text/html": [
       "<div>\n",
       "<style scoped>\n",
       "    .dataframe tbody tr th:only-of-type {\n",
       "        vertical-align: middle;\n",
       "    }\n",
       "\n",
       "    .dataframe tbody tr th {\n",
       "        vertical-align: top;\n",
       "    }\n",
       "\n",
       "    .dataframe thead th {\n",
       "        text-align: right;\n",
       "    }\n",
       "</style>\n",
       "<table border=\"1\" class=\"dataframe\">\n",
       "  <thead>\n",
       "    <tr style=\"text-align: right;\">\n",
       "      <th></th>\n",
       "      <th>Gender</th>\n",
       "      <th>FSIQ</th>\n",
       "      <th>VIQ</th>\n",
       "      <th>PIQ</th>\n",
       "      <th>Weight</th>\n",
       "      <th>Height</th>\n",
       "      <th>MRI_Count</th>\n",
       "    </tr>\n",
       "  </thead>\n",
       "  <tbody>\n",
       "    <tr>\n",
       "      <th>31</th>\n",
       "      <td>Male</td>\n",
       "      <td>144</td>\n",
       "      <td>145</td>\n",
       "      <td>137</td>\n",
       "      <td>191.0</td>\n",
       "      <td>67.0</td>\n",
       "      <td>949589</td>\n",
       "    </tr>\n",
       "    <tr>\n",
       "      <th>25</th>\n",
       "      <td>Male</td>\n",
       "      <td>141</td>\n",
       "      <td>145</td>\n",
       "      <td>131</td>\n",
       "      <td>171.0</td>\n",
       "      <td>72.0</td>\n",
       "      <td>935494</td>\n",
       "    </tr>\n",
       "    <tr>\n",
       "      <th>11</th>\n",
       "      <td>Male</td>\n",
       "      <td>141</td>\n",
       "      <td>150</td>\n",
       "      <td>128</td>\n",
       "      <td>151.0</td>\n",
       "      <td>70.0</td>\n",
       "      <td>1079549</td>\n",
       "    </tr>\n",
       "    <tr>\n",
       "      <th>36</th>\n",
       "      <td>Male</td>\n",
       "      <td>140</td>\n",
       "      <td>150</td>\n",
       "      <td>124</td>\n",
       "      <td>144.0</td>\n",
       "      <td>70.5</td>\n",
       "      <td>949395</td>\n",
       "    </tr>\n",
       "    <tr>\n",
       "      <th>1</th>\n",
       "      <td>Male</td>\n",
       "      <td>140</td>\n",
       "      <td>150</td>\n",
       "      <td>124</td>\n",
       "      <td>NaN</td>\n",
       "      <td>72.5</td>\n",
       "      <td>1001121</td>\n",
       "    </tr>\n",
       "  </tbody>\n",
       "</table>\n",
       "</div>"
      ],
      "text/plain": [
       "   Gender  FSIQ  VIQ  PIQ  Weight  Height  MRI_Count\n",
       "31   Male   144  145  137   191.0    67.0     949589\n",
       "25   Male   141  145  131   171.0    72.0     935494\n",
       "11   Male   141  150  128   151.0    70.0    1079549\n",
       "36   Male   140  150  124   144.0    70.5     949395\n",
       "1    Male   140  150  124     NaN    72.5    1001121"
      ]
     },
     "execution_count": 7,
     "metadata": {},
     "output_type": "execute_result"
    }
   ],
   "source": [
    "brainsize.sort_values(by=\"FSIQ\", ascending=False).head()"
   ]
  },
  {
   "cell_type": "markdown",
   "id": "italic-midwest",
   "metadata": {},
   "source": [
    "Note that the sorting variable doesn't have to be a continuous variable, it can be a coded categorical or discrete valued variable, or even a variable containing strings which pandas will sort in alphanumeric order.\n",
    "\n",
    "The following sort on the *Gender* variable which contains strings will list all the observations for female students first and then the observations for males since the first character 'F' precedes 'M'."
   ]
  },
  {
   "cell_type": "code",
   "execution_count": 8,
   "id": "equipped-sugar",
   "metadata": {},
   "outputs": [
    {
     "data": {
      "text/html": [
       "<div>\n",
       "<style scoped>\n",
       "    .dataframe tbody tr th:only-of-type {\n",
       "        vertical-align: middle;\n",
       "    }\n",
       "\n",
       "    .dataframe tbody tr th {\n",
       "        vertical-align: top;\n",
       "    }\n",
       "\n",
       "    .dataframe thead th {\n",
       "        text-align: right;\n",
       "    }\n",
       "</style>\n",
       "<table border=\"1\" class=\"dataframe\">\n",
       "  <thead>\n",
       "    <tr style=\"text-align: right;\">\n",
       "      <th></th>\n",
       "      <th>Gender</th>\n",
       "      <th>FSIQ</th>\n",
       "      <th>VIQ</th>\n",
       "      <th>PIQ</th>\n",
       "      <th>Weight</th>\n",
       "      <th>Height</th>\n",
       "      <th>MRI_Count</th>\n",
       "    </tr>\n",
       "  </thead>\n",
       "  <tbody>\n",
       "    <tr>\n",
       "      <th>0</th>\n",
       "      <td>Female</td>\n",
       "      <td>133</td>\n",
       "      <td>132</td>\n",
       "      <td>124</td>\n",
       "      <td>118.0</td>\n",
       "      <td>64.5</td>\n",
       "      <td>816932</td>\n",
       "    </tr>\n",
       "    <tr>\n",
       "      <th>22</th>\n",
       "      <td>Female</td>\n",
       "      <td>135</td>\n",
       "      <td>129</td>\n",
       "      <td>134</td>\n",
       "      <td>122.0</td>\n",
       "      <td>62.0</td>\n",
       "      <td>790619</td>\n",
       "    </tr>\n",
       "    <tr>\n",
       "      <th>28</th>\n",
       "      <td>Female</td>\n",
       "      <td>77</td>\n",
       "      <td>83</td>\n",
       "      <td>72</td>\n",
       "      <td>106.0</td>\n",
       "      <td>63.0</td>\n",
       "      <td>793549</td>\n",
       "    </tr>\n",
       "    <tr>\n",
       "      <th>29</th>\n",
       "      <td>Female</td>\n",
       "      <td>130</td>\n",
       "      <td>126</td>\n",
       "      <td>124</td>\n",
       "      <td>159.0</td>\n",
       "      <td>66.5</td>\n",
       "      <td>866662</td>\n",
       "    </tr>\n",
       "    <tr>\n",
       "      <th>18</th>\n",
       "      <td>Female</td>\n",
       "      <td>101</td>\n",
       "      <td>112</td>\n",
       "      <td>84</td>\n",
       "      <td>136.0</td>\n",
       "      <td>66.3</td>\n",
       "      <td>808020</td>\n",
       "    </tr>\n",
       "  </tbody>\n",
       "</table>\n",
       "</div>"
      ],
      "text/plain": [
       "    Gender  FSIQ  VIQ  PIQ  Weight  Height  MRI_Count\n",
       "0   Female   133  132  124   118.0    64.5     816932\n",
       "22  Female   135  129  134   122.0    62.0     790619\n",
       "28  Female    77   83   72   106.0    63.0     793549\n",
       "29  Female   130  126  124   159.0    66.5     866662\n",
       "18  Female   101  112   84   136.0    66.3     808020"
      ]
     },
     "execution_count": 8,
     "metadata": {},
     "output_type": "execute_result"
    }
   ],
   "source": [
    "brainsize.sort_values(by=\"Gender\").head()"
   ]
  },
  {
   "cell_type": "code",
   "execution_count": 9,
   "id": "behavioral-sandwich",
   "metadata": {},
   "outputs": [
    {
     "data": {
      "text/html": [
       "<div>\n",
       "<style scoped>\n",
       "    .dataframe tbody tr th:only-of-type {\n",
       "        vertical-align: middle;\n",
       "    }\n",
       "\n",
       "    .dataframe tbody tr th {\n",
       "        vertical-align: top;\n",
       "    }\n",
       "\n",
       "    .dataframe thead th {\n",
       "        text-align: right;\n",
       "    }\n",
       "</style>\n",
       "<table border=\"1\" class=\"dataframe\">\n",
       "  <thead>\n",
       "    <tr style=\"text-align: right;\">\n",
       "      <th></th>\n",
       "      <th>Gender</th>\n",
       "      <th>FSIQ</th>\n",
       "      <th>VIQ</th>\n",
       "      <th>PIQ</th>\n",
       "      <th>Weight</th>\n",
       "      <th>Height</th>\n",
       "      <th>MRI_Count</th>\n",
       "    </tr>\n",
       "  </thead>\n",
       "  <tbody>\n",
       "    <tr>\n",
       "      <th>3</th>\n",
       "      <td>Male</td>\n",
       "      <td>133</td>\n",
       "      <td>129</td>\n",
       "      <td>128</td>\n",
       "      <td>172.0</td>\n",
       "      <td>68.8</td>\n",
       "      <td>965353</td>\n",
       "    </tr>\n",
       "    <tr>\n",
       "      <th>2</th>\n",
       "      <td>Male</td>\n",
       "      <td>139</td>\n",
       "      <td>123</td>\n",
       "      <td>150</td>\n",
       "      <td>143.0</td>\n",
       "      <td>73.3</td>\n",
       "      <td>1038437</td>\n",
       "    </tr>\n",
       "    <tr>\n",
       "      <th>1</th>\n",
       "      <td>Male</td>\n",
       "      <td>140</td>\n",
       "      <td>150</td>\n",
       "      <td>124</td>\n",
       "      <td>NaN</td>\n",
       "      <td>72.5</td>\n",
       "      <td>1001121</td>\n",
       "    </tr>\n",
       "    <tr>\n",
       "      <th>25</th>\n",
       "      <td>Male</td>\n",
       "      <td>141</td>\n",
       "      <td>145</td>\n",
       "      <td>131</td>\n",
       "      <td>171.0</td>\n",
       "      <td>72.0</td>\n",
       "      <td>935494</td>\n",
       "    </tr>\n",
       "    <tr>\n",
       "      <th>39</th>\n",
       "      <td>Male</td>\n",
       "      <td>89</td>\n",
       "      <td>91</td>\n",
       "      <td>89</td>\n",
       "      <td>179.0</td>\n",
       "      <td>75.5</td>\n",
       "      <td>935863</td>\n",
       "    </tr>\n",
       "  </tbody>\n",
       "</table>\n",
       "</div>"
      ],
      "text/plain": [
       "   Gender  FSIQ  VIQ  PIQ  Weight  Height  MRI_Count\n",
       "3    Male   133  129  128   172.0    68.8     965353\n",
       "2    Male   139  123  150   143.0    73.3    1038437\n",
       "1    Male   140  150  124     NaN    72.5    1001121\n",
       "25   Male   141  145  131   171.0    72.0     935494\n",
       "39   Male    89   91   89   179.0    75.5     935863"
      ]
     },
     "execution_count": 9,
     "metadata": {},
     "output_type": "execute_result"
    }
   ],
   "source": [
    "brainsize.sort_values(by=\"Gender\").tail()"
   ]
  },
  {
   "cell_type": "markdown",
   "id": "frequent-disclosure",
   "metadata": {},
   "source": [
    "We can sort a data frame on more than one variable and pandas gives priority to the order in which you specify the variables. Suppose we want to sort the data first by *FSIQ* and then by *MRI_Count*. Sorting on only *FSIQ* doesn't produce what we want. "
   ]
  },
  {
   "cell_type": "code",
   "execution_count": 10,
   "id": "caring-photography",
   "metadata": {},
   "outputs": [
    {
     "data": {
      "text/html": [
       "<div>\n",
       "<style scoped>\n",
       "    .dataframe tbody tr th:only-of-type {\n",
       "        vertical-align: middle;\n",
       "    }\n",
       "\n",
       "    .dataframe tbody tr th {\n",
       "        vertical-align: top;\n",
       "    }\n",
       "\n",
       "    .dataframe thead th {\n",
       "        text-align: right;\n",
       "    }\n",
       "</style>\n",
       "<table border=\"1\" class=\"dataframe\">\n",
       "  <thead>\n",
       "    <tr style=\"text-align: right;\">\n",
       "      <th></th>\n",
       "      <th>Gender</th>\n",
       "      <th>FSIQ</th>\n",
       "      <th>VIQ</th>\n",
       "      <th>PIQ</th>\n",
       "      <th>Weight</th>\n",
       "      <th>Height</th>\n",
       "      <th>MRI_Count</th>\n",
       "    </tr>\n",
       "  </thead>\n",
       "  <tbody>\n",
       "    <tr>\n",
       "      <th>28</th>\n",
       "      <td>Female</td>\n",
       "      <td>77</td>\n",
       "      <td>83</td>\n",
       "      <td>72</td>\n",
       "      <td>106.0</td>\n",
       "      <td>63.0</td>\n",
       "      <td>793549</td>\n",
       "    </tr>\n",
       "    <tr>\n",
       "      <th>19</th>\n",
       "      <td>Male</td>\n",
       "      <td>80</td>\n",
       "      <td>77</td>\n",
       "      <td>86</td>\n",
       "      <td>180.0</td>\n",
       "      <td>70.0</td>\n",
       "      <td>889083</td>\n",
       "    </tr>\n",
       "    <tr>\n",
       "      <th>38</th>\n",
       "      <td>Male</td>\n",
       "      <td>81</td>\n",
       "      <td>90</td>\n",
       "      <td>74</td>\n",
       "      <td>148.0</td>\n",
       "      <td>74.0</td>\n",
       "      <td>930016</td>\n",
       "    </tr>\n",
       "    <tr>\n",
       "      <th>34</th>\n",
       "      <td>Female</td>\n",
       "      <td>83</td>\n",
       "      <td>90</td>\n",
       "      <td>81</td>\n",
       "      <td>143.0</td>\n",
       "      <td>66.5</td>\n",
       "      <td>834344</td>\n",
       "    </tr>\n",
       "    <tr>\n",
       "      <th>20</th>\n",
       "      <td>Male</td>\n",
       "      <td>83</td>\n",
       "      <td>83</td>\n",
       "      <td>86</td>\n",
       "      <td>NaN</td>\n",
       "      <td>NaN</td>\n",
       "      <td>892420</td>\n",
       "    </tr>\n",
       "    <tr>\n",
       "      <th>15</th>\n",
       "      <td>Female</td>\n",
       "      <td>83</td>\n",
       "      <td>71</td>\n",
       "      <td>96</td>\n",
       "      <td>135.0</td>\n",
       "      <td>68.0</td>\n",
       "      <td>865363</td>\n",
       "    </tr>\n",
       "    <tr>\n",
       "      <th>26</th>\n",
       "      <td>Female</td>\n",
       "      <td>85</td>\n",
       "      <td>90</td>\n",
       "      <td>84</td>\n",
       "      <td>140.0</td>\n",
       "      <td>68.0</td>\n",
       "      <td>798612</td>\n",
       "    </tr>\n",
       "  </tbody>\n",
       "</table>\n",
       "</div>"
      ],
      "text/plain": [
       "    Gender  FSIQ  VIQ  PIQ  Weight  Height  MRI_Count\n",
       "28  Female    77   83   72   106.0    63.0     793549\n",
       "19    Male    80   77   86   180.0    70.0     889083\n",
       "38    Male    81   90   74   148.0    74.0     930016\n",
       "34  Female    83   90   81   143.0    66.5     834344\n",
       "20    Male    83   83   86     NaN     NaN     892420\n",
       "15  Female    83   71   96   135.0    68.0     865363\n",
       "26  Female    85   90   84   140.0    68.0     798612"
      ]
     },
     "execution_count": 10,
     "metadata": {},
     "output_type": "execute_result"
    }
   ],
   "source": [
    "brainsize.sort_values(by=\"FSIQ\").head(7)"
   ]
  },
  {
   "cell_type": "markdown",
   "id": "honey-bailey",
   "metadata": {},
   "source": [
    "The result of simply sorting on *FSIQ*, means that within a particular value of *FSIQ* the observations are not sorted in any particular order. Here, the three people with `FSIQ=83` have brain size 8.34, 8.92, and 8.65 hundred thousand pixels."
   ]
  },
  {
   "cell_type": "code",
   "execution_count": 11,
   "id": "fundamental-nickname",
   "metadata": {},
   "outputs": [
    {
     "data": {
      "text/html": [
       "<div>\n",
       "<style scoped>\n",
       "    .dataframe tbody tr th:only-of-type {\n",
       "        vertical-align: middle;\n",
       "    }\n",
       "\n",
       "    .dataframe tbody tr th {\n",
       "        vertical-align: top;\n",
       "    }\n",
       "\n",
       "    .dataframe thead th {\n",
       "        text-align: right;\n",
       "    }\n",
       "</style>\n",
       "<table border=\"1\" class=\"dataframe\">\n",
       "  <thead>\n",
       "    <tr style=\"text-align: right;\">\n",
       "      <th></th>\n",
       "      <th>Gender</th>\n",
       "      <th>FSIQ</th>\n",
       "      <th>VIQ</th>\n",
       "      <th>PIQ</th>\n",
       "      <th>Weight</th>\n",
       "      <th>Height</th>\n",
       "      <th>MRI_Count</th>\n",
       "    </tr>\n",
       "  </thead>\n",
       "  <tbody>\n",
       "    <tr>\n",
       "      <th>28</th>\n",
       "      <td>Female</td>\n",
       "      <td>77</td>\n",
       "      <td>83</td>\n",
       "      <td>72</td>\n",
       "      <td>106.0</td>\n",
       "      <td>63.0</td>\n",
       "      <td>793549</td>\n",
       "    </tr>\n",
       "    <tr>\n",
       "      <th>19</th>\n",
       "      <td>Male</td>\n",
       "      <td>80</td>\n",
       "      <td>77</td>\n",
       "      <td>86</td>\n",
       "      <td>180.0</td>\n",
       "      <td>70.0</td>\n",
       "      <td>889083</td>\n",
       "    </tr>\n",
       "    <tr>\n",
       "      <th>38</th>\n",
       "      <td>Male</td>\n",
       "      <td>81</td>\n",
       "      <td>90</td>\n",
       "      <td>74</td>\n",
       "      <td>148.0</td>\n",
       "      <td>74.0</td>\n",
       "      <td>930016</td>\n",
       "    </tr>\n",
       "    <tr>\n",
       "      <th>34</th>\n",
       "      <td>Female</td>\n",
       "      <td>83</td>\n",
       "      <td>90</td>\n",
       "      <td>81</td>\n",
       "      <td>143.0</td>\n",
       "      <td>66.5</td>\n",
       "      <td>834344</td>\n",
       "    </tr>\n",
       "    <tr>\n",
       "      <th>15</th>\n",
       "      <td>Female</td>\n",
       "      <td>83</td>\n",
       "      <td>71</td>\n",
       "      <td>96</td>\n",
       "      <td>135.0</td>\n",
       "      <td>68.0</td>\n",
       "      <td>865363</td>\n",
       "    </tr>\n",
       "    <tr>\n",
       "      <th>20</th>\n",
       "      <td>Male</td>\n",
       "      <td>83</td>\n",
       "      <td>83</td>\n",
       "      <td>86</td>\n",
       "      <td>NaN</td>\n",
       "      <td>NaN</td>\n",
       "      <td>892420</td>\n",
       "    </tr>\n",
       "    <tr>\n",
       "      <th>26</th>\n",
       "      <td>Female</td>\n",
       "      <td>85</td>\n",
       "      <td>90</td>\n",
       "      <td>84</td>\n",
       "      <td>140.0</td>\n",
       "      <td>68.0</td>\n",
       "      <td>798612</td>\n",
       "    </tr>\n",
       "  </tbody>\n",
       "</table>\n",
       "</div>"
      ],
      "text/plain": [
       "    Gender  FSIQ  VIQ  PIQ  Weight  Height  MRI_Count\n",
       "28  Female    77   83   72   106.0    63.0     793549\n",
       "19    Male    80   77   86   180.0    70.0     889083\n",
       "38    Male    81   90   74   148.0    74.0     930016\n",
       "34  Female    83   90   81   143.0    66.5     834344\n",
       "15  Female    83   71   96   135.0    68.0     865363\n",
       "20    Male    83   83   86     NaN     NaN     892420\n",
       "26  Female    85   90   84   140.0    68.0     798612"
      ]
     },
     "execution_count": 11,
     "metadata": {},
     "output_type": "execute_result"
    }
   ],
   "source": [
    "brainsize.sort_values(by=[\"FSIQ\", \"MRI_Count\"]).head(7)"
   ]
  },
  {
   "cell_type": "markdown",
   "id": "sacred-knife",
   "metadata": {},
   "source": [
    "The order that multiple sorting variables are specified is very important! To see this, try sorting the data with the variables *MRI_Count* and *FSIQ* swapped."
   ]
  },
  {
   "cell_type": "code",
   "execution_count": 12,
   "id": "prepared-behalf",
   "metadata": {},
   "outputs": [
    {
     "data": {
      "text/html": [
       "<div>\n",
       "<style scoped>\n",
       "    .dataframe tbody tr th:only-of-type {\n",
       "        vertical-align: middle;\n",
       "    }\n",
       "\n",
       "    .dataframe tbody tr th {\n",
       "        vertical-align: top;\n",
       "    }\n",
       "\n",
       "    .dataframe thead th {\n",
       "        text-align: right;\n",
       "    }\n",
       "</style>\n",
       "<table border=\"1\" class=\"dataframe\">\n",
       "  <thead>\n",
       "    <tr style=\"text-align: right;\">\n",
       "      <th></th>\n",
       "      <th>Gender</th>\n",
       "      <th>FSIQ</th>\n",
       "      <th>VIQ</th>\n",
       "      <th>PIQ</th>\n",
       "      <th>Weight</th>\n",
       "      <th>Height</th>\n",
       "      <th>MRI_Count</th>\n",
       "    </tr>\n",
       "  </thead>\n",
       "  <tbody>\n",
       "    <tr>\n",
       "      <th>22</th>\n",
       "      <td>Female</td>\n",
       "      <td>135</td>\n",
       "      <td>129</td>\n",
       "      <td>134</td>\n",
       "      <td>122.0</td>\n",
       "      <td>62.0</td>\n",
       "      <td>790619</td>\n",
       "    </tr>\n",
       "    <tr>\n",
       "      <th>28</th>\n",
       "      <td>Female</td>\n",
       "      <td>77</td>\n",
       "      <td>83</td>\n",
       "      <td>72</td>\n",
       "      <td>106.0</td>\n",
       "      <td>63.0</td>\n",
       "      <td>793549</td>\n",
       "    </tr>\n",
       "    <tr>\n",
       "      <th>26</th>\n",
       "      <td>Female</td>\n",
       "      <td>85</td>\n",
       "      <td>90</td>\n",
       "      <td>84</td>\n",
       "      <td>140.0</td>\n",
       "      <td>68.0</td>\n",
       "      <td>798612</td>\n",
       "    </tr>\n",
       "    <tr>\n",
       "      <th>18</th>\n",
       "      <td>Female</td>\n",
       "      <td>101</td>\n",
       "      <td>112</td>\n",
       "      <td>84</td>\n",
       "      <td>136.0</td>\n",
       "      <td>66.3</td>\n",
       "      <td>808020</td>\n",
       "    </tr>\n",
       "    <tr>\n",
       "      <th>0</th>\n",
       "      <td>Female</td>\n",
       "      <td>133</td>\n",
       "      <td>132</td>\n",
       "      <td>124</td>\n",
       "      <td>118.0</td>\n",
       "      <td>64.5</td>\n",
       "      <td>816932</td>\n",
       "    </tr>\n",
       "  </tbody>\n",
       "</table>\n",
       "</div>"
      ],
      "text/plain": [
       "    Gender  FSIQ  VIQ  PIQ  Weight  Height  MRI_Count\n",
       "22  Female   135  129  134   122.0    62.0     790619\n",
       "28  Female    77   83   72   106.0    63.0     793549\n",
       "26  Female    85   90   84   140.0    68.0     798612\n",
       "18  Female   101  112   84   136.0    66.3     808020\n",
       "0   Female   133  132  124   118.0    64.5     816932"
      ]
     },
     "execution_count": 12,
     "metadata": {},
     "output_type": "execute_result"
    }
   ],
   "source": [
    "brainsize.sort_values(by=[\"MRI_Count\", \"FSIQ\"]).head()"
   ]
  },
  {
   "cell_type": "markdown",
   "id": "prime-breach",
   "metadata": {},
   "source": [
    "In this case, it was redundant to sort by *FSIQ* after sorting by *MRI_Count* because all of the brain sizes were unique in this data set. So there were no groups of common *MRI_Count* values to sort within.\n",
    "\n",
    "When you use the [sort_values()](https://pandas.pydata.org/pandas-docs/stable/reference/api/pandas.DataFrame.sort_values.html) method in this way, it returns a copy of the data frame that is sorted without affecting or overwriting the original data frame. To change the order of the observations in the original data frame, set the parameter `inplace=True`."
   ]
  },
  {
   "cell_type": "markdown",
   "id": "modified-given",
   "metadata": {},
   "source": [
    "### Checking for duplicate rows\n",
    "\n",
    "Below are the first ten rows of the \"dirty\" [brainsize](#brainsize) data set which has 47 observations."
   ]
  },
  {
   "cell_type": "code",
   "execution_count": 13,
   "id": "strange-cooperation",
   "metadata": {},
   "outputs": [
    {
     "data": {
      "text/html": [
       "<div>\n",
       "<style scoped>\n",
       "    .dataframe tbody tr th:only-of-type {\n",
       "        vertical-align: middle;\n",
       "    }\n",
       "\n",
       "    .dataframe tbody tr th {\n",
       "        vertical-align: top;\n",
       "    }\n",
       "\n",
       "    .dataframe thead th {\n",
       "        text-align: right;\n",
       "    }\n",
       "</style>\n",
       "<table border=\"1\" class=\"dataframe\">\n",
       "  <thead>\n",
       "    <tr style=\"text-align: right;\">\n",
       "      <th></th>\n",
       "      <th>Gender</th>\n",
       "      <th>FSIQ</th>\n",
       "      <th>VIQ</th>\n",
       "      <th>PIQ</th>\n",
       "      <th>Weight</th>\n",
       "      <th>Height</th>\n",
       "      <th>MRI_Count</th>\n",
       "    </tr>\n",
       "  </thead>\n",
       "  <tbody>\n",
       "    <tr>\n",
       "      <th>0</th>\n",
       "      <td>Female</td>\n",
       "      <td>77</td>\n",
       "      <td>83</td>\n",
       "      <td>72.0</td>\n",
       "      <td>106.0</td>\n",
       "      <td>63.0</td>\n",
       "      <td>793549</td>\n",
       "    </tr>\n",
       "    <tr>\n",
       "      <th>1</th>\n",
       "      <td>Female</td>\n",
       "      <td>77</td>\n",
       "      <td>83</td>\n",
       "      <td>72.0</td>\n",
       "      <td>106.0</td>\n",
       "      <td>63.0</td>\n",
       "      <td>893549</td>\n",
       "    </tr>\n",
       "    <tr>\n",
       "      <th>2</th>\n",
       "      <td>Male</td>\n",
       "      <td>80</td>\n",
       "      <td>77</td>\n",
       "      <td>86.0</td>\n",
       "      <td>180.0</td>\n",
       "      <td>70.0</td>\n",
       "      <td>889083</td>\n",
       "    </tr>\n",
       "    <tr>\n",
       "      <th>3</th>\n",
       "      <td>Male</td>\n",
       "      <td>81</td>\n",
       "      <td>90</td>\n",
       "      <td>74.0</td>\n",
       "      <td>148.0</td>\n",
       "      <td>74.0</td>\n",
       "      <td>930016</td>\n",
       "    </tr>\n",
       "    <tr>\n",
       "      <th>4</th>\n",
       "      <td>Female</td>\n",
       "      <td>83</td>\n",
       "      <td>71</td>\n",
       "      <td>96.0</td>\n",
       "      <td>135.0</td>\n",
       "      <td>68.0</td>\n",
       "      <td>865363</td>\n",
       "    </tr>\n",
       "    <tr>\n",
       "      <th>5</th>\n",
       "      <td>Male</td>\n",
       "      <td>83</td>\n",
       "      <td>83</td>\n",
       "      <td>86.0</td>\n",
       "      <td>NaN</td>\n",
       "      <td>NaN</td>\n",
       "      <td>892420</td>\n",
       "    </tr>\n",
       "    <tr>\n",
       "      <th>6</th>\n",
       "      <td>male</td>\n",
       "      <td>83</td>\n",
       "      <td>83</td>\n",
       "      <td>86.0</td>\n",
       "      <td>NaN</td>\n",
       "      <td>NaN</td>\n",
       "      <td>892420</td>\n",
       "    </tr>\n",
       "    <tr>\n",
       "      <th>7</th>\n",
       "      <td>Male</td>\n",
       "      <td>83</td>\n",
       "      <td>83</td>\n",
       "      <td>86.0</td>\n",
       "      <td>NaN</td>\n",
       "      <td>NaN</td>\n",
       "      <td>892420</td>\n",
       "    </tr>\n",
       "    <tr>\n",
       "      <th>8</th>\n",
       "      <td>Male</td>\n",
       "      <td>83</td>\n",
       "      <td>83</td>\n",
       "      <td>NaN</td>\n",
       "      <td>NaN</td>\n",
       "      <td>NaN</td>\n",
       "      <td>892420</td>\n",
       "    </tr>\n",
       "    <tr>\n",
       "      <th>9</th>\n",
       "      <td>Female</td>\n",
       "      <td>83</td>\n",
       "      <td>90</td>\n",
       "      <td>81.0</td>\n",
       "      <td>143.0</td>\n",
       "      <td>66.5</td>\n",
       "      <td>834344</td>\n",
       "    </tr>\n",
       "  </tbody>\n",
       "</table>\n",
       "</div>"
      ],
      "text/plain": [
       "   Gender  FSIQ  VIQ   PIQ  Weight  Height  MRI_Count\n",
       "0  Female    77   83  72.0   106.0    63.0     793549\n",
       "1  Female    77   83  72.0   106.0    63.0     893549\n",
       "2    Male    80   77  86.0   180.0    70.0     889083\n",
       "3    Male    81   90  74.0   148.0    74.0     930016\n",
       "4  Female    83   71  96.0   135.0    68.0     865363\n",
       "5    Male    83   83  86.0     NaN     NaN     892420\n",
       "6    male    83   83  86.0     NaN     NaN     892420\n",
       "7    Male    83   83  86.0     NaN     NaN     892420\n",
       "8    Male    83   83   NaN     NaN     NaN     892420\n",
       "9  Female    83   90  81.0   143.0    66.5     834344"
      ]
     },
     "execution_count": 13,
     "metadata": {},
     "output_type": "execute_result"
    }
   ],
   "source": [
    "brainsize_dirty.head(10)"
   ]
  },
  {
   "cell_type": "markdown",
   "id": "pleased-combining",
   "metadata": {},
   "source": [
    "Observations 0 and 1 are not duplicates because although they are similar on most variables, the *MRI_Count* is not the same (the leading digit differs). If this were real data that matched so closely, we might suspect a data entry error and that these rows were supposed to pertain to the same individual.\n",
    "\n",
    "Observations 5 and 7 are identical on all variables. Observation 6 has the gender in lower case so it won't be counted as a duplicate. Observation 8 matches on all non-missing values but has missing data for the *PIQ* variable so it will also not be identified as a duplicate row. If this were the real-life state of the data, we would suspect that these four rows are likely to belong to the same person (since it's very unlikely for two people to have exactly the same 6 digit number for brain size in pixels). But the only true duplicate from a data perspective is observation 7.\n",
    "\n",
    "Let's use the [duplicated()](https://pandas.pydata.org/pandas-docs/stable/reference/api/pandas.DataFrame.duplicated.html) method to show and count the number of duplicate rows and then use the [drop_duplicates()](https://pandas.pydata.org/pandas-docs/stable/reference/api/pandas.DataFrame.drop_duplicates.html) method to remove the duplicate rows and save the resulting data to a new data frame `brainsize_nodups`. All columns are used for identifying duplicates by default."
   ]
  },
  {
   "cell_type": "code",
   "execution_count": 14,
   "id": "three-position",
   "metadata": {},
   "outputs": [
    {
     "data": {
      "text/plain": [
       "0    False\n",
       "1    False\n",
       "2    False\n",
       "3    False\n",
       "4    False\n",
       "5    False\n",
       "6    False\n",
       "7     True\n",
       "8    False\n",
       "9    False\n",
       "dtype: bool"
      ]
     },
     "execution_count": 14,
     "metadata": {},
     "output_type": "execute_result"
    }
   ],
   "source": [
    "brainsize_dirty.duplicated().head(10)"
   ]
  },
  {
   "cell_type": "code",
   "execution_count": 15,
   "id": "royal-found",
   "metadata": {},
   "outputs": [
    {
     "data": {
      "text/html": [
       "<div>\n",
       "<style scoped>\n",
       "    .dataframe tbody tr th:only-of-type {\n",
       "        vertical-align: middle;\n",
       "    }\n",
       "\n",
       "    .dataframe tbody tr th {\n",
       "        vertical-align: top;\n",
       "    }\n",
       "\n",
       "    .dataframe thead th {\n",
       "        text-align: right;\n",
       "    }\n",
       "</style>\n",
       "<table border=\"1\" class=\"dataframe\">\n",
       "  <thead>\n",
       "    <tr style=\"text-align: right;\">\n",
       "      <th></th>\n",
       "      <th>Gender</th>\n",
       "      <th>FSIQ</th>\n",
       "      <th>VIQ</th>\n",
       "      <th>PIQ</th>\n",
       "      <th>Weight</th>\n",
       "      <th>Height</th>\n",
       "      <th>MRI_Count</th>\n",
       "    </tr>\n",
       "  </thead>\n",
       "  <tbody>\n",
       "    <tr>\n",
       "      <th>7</th>\n",
       "      <td>Male</td>\n",
       "      <td>83</td>\n",
       "      <td>83</td>\n",
       "      <td>86.0</td>\n",
       "      <td>NaN</td>\n",
       "      <td>NaN</td>\n",
       "      <td>892420</td>\n",
       "    </tr>\n",
       "    <tr>\n",
       "      <th>31</th>\n",
       "      <td>Male</td>\n",
       "      <td>133</td>\n",
       "      <td>129</td>\n",
       "      <td>128.0</td>\n",
       "      <td>172.0</td>\n",
       "      <td>68.8</td>\n",
       "      <td>965353</td>\n",
       "    </tr>\n",
       "    <tr>\n",
       "      <th>33</th>\n",
       "      <td>Female</td>\n",
       "      <td>133</td>\n",
       "      <td>132</td>\n",
       "      <td>124.0</td>\n",
       "      <td>118.0</td>\n",
       "      <td>64.5</td>\n",
       "      <td>816932</td>\n",
       "    </tr>\n",
       "  </tbody>\n",
       "</table>\n",
       "</div>"
      ],
      "text/plain": [
       "    Gender  FSIQ  VIQ    PIQ  Weight  Height  MRI_Count\n",
       "7     Male    83   83   86.0     NaN     NaN     892420\n",
       "31    Male   133  129  128.0   172.0    68.8     965353\n",
       "33  Female   133  132  124.0   118.0    64.5     816932"
      ]
     },
     "execution_count": 15,
     "metadata": {},
     "output_type": "execute_result"
    }
   ],
   "source": [
    "brainsize_dirty[brainsize_dirty.duplicated()]"
   ]
  },
  {
   "cell_type": "code",
   "execution_count": 16,
   "id": "premium-airline",
   "metadata": {},
   "outputs": [
    {
     "data": {
      "text/plain": [
       "3"
      ]
     },
     "execution_count": 16,
     "metadata": {},
     "output_type": "execute_result"
    }
   ],
   "source": [
    "brainsize_dirty.duplicated().sum()"
   ]
  },
  {
   "cell_type": "code",
   "execution_count": 17,
   "id": "metallic-rubber",
   "metadata": {},
   "outputs": [
    {
     "data": {
      "text/plain": [
       "44"
      ]
     },
     "execution_count": 17,
     "metadata": {},
     "output_type": "execute_result"
    }
   ],
   "source": [
    "(~brainsize_dirty.duplicated()).sum()"
   ]
  },
  {
   "cell_type": "code",
   "execution_count": 18,
   "id": "eleven-transport",
   "metadata": {},
   "outputs": [
    {
     "data": {
      "text/plain": [
       "(44, 7)"
      ]
     },
     "execution_count": 18,
     "metadata": {},
     "output_type": "execute_result"
    }
   ],
   "source": [
    "brainsize_nodups = brainsize_dirty.drop_duplicates()\n",
    "brainsize_nodups.shape"
   ]
  },
  {
   "cell_type": "code",
   "execution_count": 19,
   "id": "premier-simulation",
   "metadata": {},
   "outputs": [
    {
     "data": {
      "text/html": [
       "<div>\n",
       "<style scoped>\n",
       "    .dataframe tbody tr th:only-of-type {\n",
       "        vertical-align: middle;\n",
       "    }\n",
       "\n",
       "    .dataframe tbody tr th {\n",
       "        vertical-align: top;\n",
       "    }\n",
       "\n",
       "    .dataframe thead th {\n",
       "        text-align: right;\n",
       "    }\n",
       "</style>\n",
       "<table border=\"1\" class=\"dataframe\">\n",
       "  <thead>\n",
       "    <tr style=\"text-align: right;\">\n",
       "      <th></th>\n",
       "      <th>Gender</th>\n",
       "      <th>FSIQ</th>\n",
       "      <th>VIQ</th>\n",
       "      <th>PIQ</th>\n",
       "      <th>Weight</th>\n",
       "      <th>Height</th>\n",
       "      <th>MRI_Count</th>\n",
       "    </tr>\n",
       "  </thead>\n",
       "  <tbody>\n",
       "    <tr>\n",
       "      <th>0</th>\n",
       "      <td>Female</td>\n",
       "      <td>77</td>\n",
       "      <td>83</td>\n",
       "      <td>72.0</td>\n",
       "      <td>106.0</td>\n",
       "      <td>63.0</td>\n",
       "      <td>793549</td>\n",
       "    </tr>\n",
       "    <tr>\n",
       "      <th>1</th>\n",
       "      <td>Female</td>\n",
       "      <td>77</td>\n",
       "      <td>83</td>\n",
       "      <td>72.0</td>\n",
       "      <td>106.0</td>\n",
       "      <td>63.0</td>\n",
       "      <td>893549</td>\n",
       "    </tr>\n",
       "    <tr>\n",
       "      <th>2</th>\n",
       "      <td>Male</td>\n",
       "      <td>80</td>\n",
       "      <td>77</td>\n",
       "      <td>86.0</td>\n",
       "      <td>180.0</td>\n",
       "      <td>70.0</td>\n",
       "      <td>889083</td>\n",
       "    </tr>\n",
       "    <tr>\n",
       "      <th>3</th>\n",
       "      <td>Male</td>\n",
       "      <td>81</td>\n",
       "      <td>90</td>\n",
       "      <td>74.0</td>\n",
       "      <td>148.0</td>\n",
       "      <td>74.0</td>\n",
       "      <td>930016</td>\n",
       "    </tr>\n",
       "    <tr>\n",
       "      <th>4</th>\n",
       "      <td>Female</td>\n",
       "      <td>83</td>\n",
       "      <td>71</td>\n",
       "      <td>96.0</td>\n",
       "      <td>135.0</td>\n",
       "      <td>68.0</td>\n",
       "      <td>865363</td>\n",
       "    </tr>\n",
       "    <tr>\n",
       "      <th>5</th>\n",
       "      <td>Male</td>\n",
       "      <td>83</td>\n",
       "      <td>83</td>\n",
       "      <td>86.0</td>\n",
       "      <td>NaN</td>\n",
       "      <td>NaN</td>\n",
       "      <td>892420</td>\n",
       "    </tr>\n",
       "    <tr>\n",
       "      <th>6</th>\n",
       "      <td>male</td>\n",
       "      <td>83</td>\n",
       "      <td>83</td>\n",
       "      <td>86.0</td>\n",
       "      <td>NaN</td>\n",
       "      <td>NaN</td>\n",
       "      <td>892420</td>\n",
       "    </tr>\n",
       "    <tr>\n",
       "      <th>8</th>\n",
       "      <td>Male</td>\n",
       "      <td>83</td>\n",
       "      <td>83</td>\n",
       "      <td>NaN</td>\n",
       "      <td>NaN</td>\n",
       "      <td>NaN</td>\n",
       "      <td>892420</td>\n",
       "    </tr>\n",
       "    <tr>\n",
       "      <th>9</th>\n",
       "      <td>Female</td>\n",
       "      <td>83</td>\n",
       "      <td>90</td>\n",
       "      <td>81.0</td>\n",
       "      <td>143.0</td>\n",
       "      <td>66.5</td>\n",
       "      <td>834344</td>\n",
       "    </tr>\n",
       "    <tr>\n",
       "      <th>10</th>\n",
       "      <td>Female</td>\n",
       "      <td>85</td>\n",
       "      <td>90</td>\n",
       "      <td>84.0</td>\n",
       "      <td>140.0</td>\n",
       "      <td>68.0</td>\n",
       "      <td>798612</td>\n",
       "    </tr>\n",
       "  </tbody>\n",
       "</table>\n",
       "</div>"
      ],
      "text/plain": [
       "    Gender  FSIQ  VIQ   PIQ  Weight  Height  MRI_Count\n",
       "0   Female    77   83  72.0   106.0    63.0     793549\n",
       "1   Female    77   83  72.0   106.0    63.0     893549\n",
       "2     Male    80   77  86.0   180.0    70.0     889083\n",
       "3     Male    81   90  74.0   148.0    74.0     930016\n",
       "4   Female    83   71  96.0   135.0    68.0     865363\n",
       "5     Male    83   83  86.0     NaN     NaN     892420\n",
       "6     male    83   83  86.0     NaN     NaN     892420\n",
       "8     Male    83   83   NaN     NaN     NaN     892420\n",
       "9   Female    83   90  81.0   143.0    66.5     834344\n",
       "10  Female    85   90  84.0   140.0    68.0     798612"
      ]
     },
     "execution_count": 19,
     "metadata": {},
     "output_type": "execute_result"
    }
   ],
   "source": [
    "brainsize_nodups.head(10)"
   ]
  },
  {
   "cell_type": "markdown",
   "id": "educational-ability",
   "metadata": {},
   "source": [
    "The data set has been reduced from 47 observations to 44 observations and there are only three non-duplicate observations for the person with `MRI_Count=892420`."
   ]
  },
  {
   "cell_type": "code",
   "execution_count": 20,
   "id": "intensive-planning",
   "metadata": {},
   "outputs": [
    {
     "data": {
      "text/html": [
       "<div>\n",
       "<style scoped>\n",
       "    .dataframe tbody tr th:only-of-type {\n",
       "        vertical-align: middle;\n",
       "    }\n",
       "\n",
       "    .dataframe tbody tr th {\n",
       "        vertical-align: top;\n",
       "    }\n",
       "\n",
       "    .dataframe thead th {\n",
       "        text-align: right;\n",
       "    }\n",
       "</style>\n",
       "<table border=\"1\" class=\"dataframe\">\n",
       "  <thead>\n",
       "    <tr style=\"text-align: right;\">\n",
       "      <th></th>\n",
       "      <th>Gender</th>\n",
       "      <th>FSIQ</th>\n",
       "      <th>VIQ</th>\n",
       "      <th>PIQ</th>\n",
       "      <th>Weight</th>\n",
       "      <th>Height</th>\n",
       "      <th>MRI_Count</th>\n",
       "    </tr>\n",
       "  </thead>\n",
       "  <tbody>\n",
       "    <tr>\n",
       "      <th>32</th>\n",
       "      <td>Female</td>\n",
       "      <td>133</td>\n",
       "      <td>132</td>\n",
       "      <td>124.0</td>\n",
       "      <td>118.0</td>\n",
       "      <td>64.5</td>\n",
       "      <td>816932</td>\n",
       "    </tr>\n",
       "    <tr>\n",
       "      <th>34</th>\n",
       "      <td>Female</td>\n",
       "      <td>133</td>\n",
       "      <td>132</td>\n",
       "      <td>124.0</td>\n",
       "      <td>118.0</td>\n",
       "      <td>64.5</td>\n",
       "      <td>816932</td>\n",
       "    </tr>\n",
       "  </tbody>\n",
       "</table>\n",
       "</div>"
      ],
      "text/plain": [
       "     Gender  FSIQ  VIQ    PIQ  Weight  Height  MRI_Count\n",
       "32   Female   133  132  124.0   118.0    64.5     816932\n",
       "34  Female    133  132  124.0   118.0    64.5     816932"
      ]
     },
     "execution_count": 20,
     "metadata": {},
     "output_type": "execute_result"
    }
   ],
   "source": [
    "brainsize_nodups[brainsize_nodups[\"MRI_Count\"]==816932]"
   ]
  },
  {
   "cell_type": "markdown",
   "id": "worst-madonna",
   "metadata": {},
   "source": [
    "Why are the two observations for the person with `MRI_Count=816932` not considered duplicates? Investigate the data."
   ]
  },
  {
   "cell_type": "markdown",
   "id": "ethical-project",
   "metadata": {},
   "source": [
    "### Checking for duplicate variable values\n",
    "\n",
    "The [caers](#CAERS) data set has several instances of rows with duplicate report numbers. Let's pick one of them `RA_Report=65420`."
   ]
  },
  {
   "cell_type": "code",
   "execution_count": 21,
   "id": "intensive-score",
   "metadata": {},
   "outputs": [
    {
     "data": {
      "text/html": [
       "<div>\n",
       "<style scoped>\n",
       "    .dataframe tbody tr th:only-of-type {\n",
       "        vertical-align: middle;\n",
       "    }\n",
       "\n",
       "    .dataframe tbody tr th {\n",
       "        vertical-align: top;\n",
       "    }\n",
       "\n",
       "    .dataframe thead th {\n",
       "        text-align: right;\n",
       "    }\n",
       "</style>\n",
       "<table border=\"1\" class=\"dataframe\">\n",
       "  <thead>\n",
       "    <tr style=\"text-align: right;\">\n",
       "      <th></th>\n",
       "      <th>RA_Report</th>\n",
       "      <th>PRI_Reported Brand/Product Name</th>\n",
       "      <th>CI_Age at Adverse Event</th>\n",
       "      <th>CI_Gender</th>\n",
       "      <th>AEC_One Row Outcomes</th>\n",
       "    </tr>\n",
       "  </thead>\n",
       "  <tbody>\n",
       "    <tr>\n",
       "      <th>22</th>\n",
       "      <td>65420</td>\n",
       "      <td>COFFEE</td>\n",
       "      <td>33.0</td>\n",
       "      <td>Male</td>\n",
       "      <td>LIFE THREATENING, DISABILITY</td>\n",
       "    </tr>\n",
       "    <tr>\n",
       "      <th>23</th>\n",
       "      <td>65420</td>\n",
       "      <td>DIET CAFFEINE FREE COKE</td>\n",
       "      <td>33.0</td>\n",
       "      <td>Male</td>\n",
       "      <td>LIFE THREATENING, DISABILITY</td>\n",
       "    </tr>\n",
       "    <tr>\n",
       "      <th>24</th>\n",
       "      <td>65420</td>\n",
       "      <td>DIET COKE</td>\n",
       "      <td>33.0</td>\n",
       "      <td>Male</td>\n",
       "      <td>LIFE THREATENING, DISABILITY</td>\n",
       "    </tr>\n",
       "    <tr>\n",
       "      <th>25</th>\n",
       "      <td>65420</td>\n",
       "      <td>DIET PEPSI</td>\n",
       "      <td>33.0</td>\n",
       "      <td>Male</td>\n",
       "      <td>LIFE THREATENING, DISABILITY</td>\n",
       "    </tr>\n",
       "    <tr>\n",
       "      <th>26</th>\n",
       "      <td>65420</td>\n",
       "      <td>DIET SPRITE</td>\n",
       "      <td>33.0</td>\n",
       "      <td>Male</td>\n",
       "      <td>LIFE THREATENING, DISABILITY</td>\n",
       "    </tr>\n",
       "    <tr>\n",
       "      <th>27</th>\n",
       "      <td>65420</td>\n",
       "      <td>JAMS</td>\n",
       "      <td>33.0</td>\n",
       "      <td>Male</td>\n",
       "      <td>LIFE THREATENING, DISABILITY</td>\n",
       "    </tr>\n",
       "    <tr>\n",
       "      <th>28</th>\n",
       "      <td>65420</td>\n",
       "      <td>LISTERINE STRIPS</td>\n",
       "      <td>33.0</td>\n",
       "      <td>Male</td>\n",
       "      <td>LIFE THREATENING, DISABILITY</td>\n",
       "    </tr>\n",
       "    <tr>\n",
       "      <th>29</th>\n",
       "      <td>65420</td>\n",
       "      <td>NUTRASWEET</td>\n",
       "      <td>33.0</td>\n",
       "      <td>Male</td>\n",
       "      <td>LIFE THREATENING, DISABILITY</td>\n",
       "    </tr>\n",
       "    <tr>\n",
       "      <th>30</th>\n",
       "      <td>65420</td>\n",
       "      <td>PUDDINGS</td>\n",
       "      <td>33.0</td>\n",
       "      <td>Male</td>\n",
       "      <td>LIFE THREATENING, DISABILITY</td>\n",
       "    </tr>\n",
       "    <tr>\n",
       "      <th>31</th>\n",
       "      <td>65420</td>\n",
       "      <td>TEA</td>\n",
       "      <td>33.0</td>\n",
       "      <td>Male</td>\n",
       "      <td>LIFE THREATENING, DISABILITY</td>\n",
       "    </tr>\n",
       "  </tbody>\n",
       "</table>\n",
       "</div>"
      ],
      "text/plain": [
       "    RA_Report PRI_Reported Brand/Product Name  CI_Age at Adverse Event  \\\n",
       "22      65420                          COFFEE                     33.0   \n",
       "23      65420         DIET CAFFEINE FREE COKE                     33.0   \n",
       "24      65420                       DIET COKE                     33.0   \n",
       "25      65420                      DIET PEPSI                     33.0   \n",
       "26      65420                     DIET SPRITE                     33.0   \n",
       "27      65420                            JAMS                     33.0   \n",
       "28      65420                LISTERINE STRIPS                     33.0   \n",
       "29      65420                      NUTRASWEET                     33.0   \n",
       "30      65420                        PUDDINGS                     33.0   \n",
       "31      65420                             TEA                     33.0   \n",
       "\n",
       "   CI_Gender          AEC_One Row Outcomes  \n",
       "22      Male  LIFE THREATENING, DISABILITY  \n",
       "23      Male  LIFE THREATENING, DISABILITY  \n",
       "24      Male  LIFE THREATENING, DISABILITY  \n",
       "25      Male  LIFE THREATENING, DISABILITY  \n",
       "26      Male  LIFE THREATENING, DISABILITY  \n",
       "27      Male  LIFE THREATENING, DISABILITY  \n",
       "28      Male  LIFE THREATENING, DISABILITY  \n",
       "29      Male  LIFE THREATENING, DISABILITY  \n",
       "30      Male  LIFE THREATENING, DISABILITY  \n",
       "31      Male  LIFE THREATENING, DISABILITY  "
      ]
     },
     "execution_count": 21,
     "metadata": {},
     "output_type": "execute_result"
    }
   ],
   "source": [
    "caers[caers[\"RA_Report\"]==65420].iloc[:,[0,4,7,9,10]]"
   ]
  },
  {
   "cell_type": "markdown",
   "id": "romance-fleece",
   "metadata": {},
   "source": [
    "It appears that these rows pertain to a single report of a 33 year old male who had a life threatening adverse reaction to one or more of 10 suspect products. Hence this data set does not contain records of unique people, there is one row for every product listed in each report.\n",
    "\n",
    "Suppose we wanted to know how many adverse events there were for males and females. What is wrong with simply tabulating the *CI_Gender* variable?"
   ]
  },
  {
   "cell_type": "code",
   "execution_count": 22,
   "id": "daily-rally",
   "metadata": {},
   "outputs": [
    {
     "data": {
      "text/plain": [
       "Female           58924\n",
       "Male             26943\n",
       "Not Available     4916\n",
       "Unknown              2\n",
       "Not Reported         1\n",
       "Name: CI_Gender, dtype: int64"
      ]
     },
     "execution_count": 22,
     "metadata": {},
     "output_type": "execute_result"
    }
   ],
   "source": [
    "caers[\"CI_Gender\"].value_counts()"
   ]
  },
  {
   "cell_type": "code",
   "execution_count": 23,
   "id": "contrary-spoke",
   "metadata": {},
   "outputs": [
    {
     "data": {
      "text/plain": [
       "(90786, 13)"
      ]
     },
     "execution_count": 23,
     "metadata": {},
     "output_type": "execute_result"
    }
   ],
   "source": [
    "caers.shape"
   ]
  },
  {
   "cell_type": "markdown",
   "id": "trying-banks",
   "metadata": {},
   "source": [
    "There are 90,786 rows in the data set. But the problem is that the 33 year old male above will have been counted 10 times for the same report (same adverse event) in this frequency table. To identify how many unique reports there were from males and females we can use the [duplicated()](https://pandas.pydata.org/pandas-docs/stable/reference/api/pandas.DataFrame.duplicated.html) and [drop_duplicates()](https://pandas.pydata.org/pandas-docs/stable/reference/api/pandas.DataFrame.drop_duplicates.html) methods, and only consider the *RA_Report* column for identifying duplicates."
   ]
  },
  {
   "cell_type": "code",
   "execution_count": 24,
   "id": "behind-reviewer",
   "metadata": {},
   "outputs": [
    {
     "data": {
      "text/plain": [
       "26269"
      ]
     },
     "execution_count": 24,
     "metadata": {},
     "output_type": "execute_result"
    }
   ],
   "source": [
    "caers.duplicated([\"RA_Report\"]).sum()"
   ]
  },
  {
   "cell_type": "code",
   "execution_count": 25,
   "id": "polish-pasta",
   "metadata": {},
   "outputs": [],
   "source": [
    "caers_unique = caers.drop_duplicates([\"RA_Report\"])"
   ]
  },
  {
   "cell_type": "code",
   "execution_count": 26,
   "id": "mounted-affiliation",
   "metadata": {},
   "outputs": [
    {
     "data": {
      "text/plain": [
       "(64517, 13)"
      ]
     },
     "execution_count": 26,
     "metadata": {},
     "output_type": "execute_result"
    }
   ],
   "source": [
    "caers_unique.shape"
   ]
  },
  {
   "cell_type": "markdown",
   "id": "renewable-maria",
   "metadata": {},
   "source": [
    "The data set has been reduced to 64,517 observations after 26,269 rows with duplicate report numbers were deleted. The data set now contains one row per report. We can assume that this is approximately the same as the number of individual consumers who had an adverse event, but it is possible for someone to have had two events and thus two report numbers."
   ]
  },
  {
   "cell_type": "code",
   "execution_count": 27,
   "id": "conditional-declaration",
   "metadata": {},
   "outputs": [
    {
     "data": {
      "text/plain": [
       "Female           40815\n",
       "Male             19655\n",
       "Not Available     4044\n",
       "Unknown              2\n",
       "Not Reported         1\n",
       "Name: CI_Gender, dtype: int64"
      ]
     },
     "execution_count": 27,
     "metadata": {},
     "output_type": "execute_result"
    }
   ],
   "source": [
    "caers_unique[\"CI_Gender\"].value_counts()"
   ]
  },
  {
   "cell_type": "markdown",
   "id": "interested-huntington",
   "metadata": {},
   "source": [
    "So the total number of report numbers in the data set is 64,517, of which 40,815 pertained to females and 19,655 pertained to males."
   ]
  },
  {
   "cell_type": "code",
   "execution_count": 28,
   "id": "south-arlington",
   "metadata": {},
   "outputs": [
    {
     "data": {
      "text/plain": [
       "Female           0.632624\n",
       "Male             0.304648\n",
       "Not Available    0.062681\n",
       "Unknown          0.000031\n",
       "Not Reported     0.000015\n",
       "Name: CI_Gender, dtype: float64"
      ]
     },
     "execution_count": 28,
     "metadata": {},
     "output_type": "execute_result"
    }
   ],
   "source": [
    "caers_unique[\"CI_Gender\"].value_counts()/caers_unique.shape[0]"
   ]
  },
  {
   "cell_type": "markdown",
   "id": "guided-punch",
   "metadata": {},
   "source": [
    "From this table we can conclude that about 63% of reports were adverse events in female consumers, and 30% of reports were adverse events in male consumers (with the remaining reports missing gender data)."
   ]
  }
 ],
 "metadata": {
  "kernelspec": {
   "display_name": "Python 3",
   "language": "python",
   "name": "python3"
  },
  "language_info": {
   "codemirror_mode": {
    "name": "ipython",
    "version": 3
   },
   "file_extension": ".py",
   "mimetype": "text/x-python",
   "name": "python",
   "nbconvert_exporter": "python",
   "pygments_lexer": "ipython3",
   "version": "3.9.2"
  }
 },
 "nbformat": 4,
 "nbformat_minor": 5
}
